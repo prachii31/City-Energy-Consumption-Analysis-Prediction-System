{
 "cells": [
  {
   "cell_type": "code",
   "execution_count": 1,
   "id": "964f616c-6edf-407b-ad30-3ee1f4328b6f",
   "metadata": {},
   "outputs": [
    {
     "name": "stdout",
     "output_type": "stream",
     "text": [
      "🏙️ City Energy Consumption Analysis & Prediction System\n",
      "============================================================\n",
      "\n",
      "📊 Generating Synthetic Dataset...\n",
      "✅ Dataset generated: 1830 records for 5 zones over 366 days\n",
      "\n",
      "📋 Dataset Overview:\n",
      "Shape: (1830, 6)\n",
      "Date range: 2024-01-01 00:00:00 to 2024-12-31 00:00:00\n",
      "Zones: ['ZONE_001' 'ZONE_002' 'ZONE_003' 'ZONE_004' 'ZONE_005']\n",
      "\n",
      "First 10 rows:\n",
      "        Date    ZoneID  AvgTemperature  Humidity  SpecialEvent  \\\n",
      "0 2024-01-01  ZONE_001             1.8      75.5             0   \n",
      "1 2024-01-01  ZONE_002             1.8      75.5             0   \n",
      "2 2024-01-01  ZONE_003             1.8      75.5             0   \n",
      "3 2024-01-01  ZONE_004             1.8      75.5             0   \n",
      "4 2024-01-01  ZONE_005             1.8      75.5             0   \n",
      "5 2024-01-02  ZONE_001            -1.2      73.5             0   \n",
      "6 2024-01-02  ZONE_002            -1.2      73.5             0   \n",
      "7 2024-01-02  ZONE_003            -1.2      73.5             0   \n",
      "8 2024-01-02  ZONE_004            -1.2      73.5             0   \n",
      "9 2024-01-02  ZONE_005            -1.2      73.5             0   \n",
      "\n",
      "   EnergyConsumption  \n",
      "0             500.25  \n",
      "1             809.29  \n",
      "2            1356.92  \n",
      "3             634.59  \n",
      "4             997.54  \n",
      "5             508.99  \n",
      "6             747.32  \n",
      "7            1309.45  \n",
      "8             587.40  \n",
      "9            1044.00  \n",
      "\n",
      "🧹 Cleaning and Preprocessing Data...\n",
      "✅ No missing values found\n",
      "✅ Data preprocessing complete. New shape: (1830, 11)\n",
      "\n",
      "🔍 Performing Data Analysis...\n",
      "\n",
      "📊 Average Monthly Consumption by Zone (kWh):\n",
      "ZoneID  ZONE_001  ZONE_002  ZONE_003  ZONE_004  ZONE_005\n",
      "Month                                                   \n",
      "1         505.24    849.92   1296.61    573.62   1071.91\n",
      "2         486.31    836.06   1247.81    567.30   1097.69\n",
      "3         462.46    818.28   1226.54    542.89   1047.26\n",
      "4         403.40    693.85   1060.99    466.02    934.12\n",
      "5         407.09    714.56   1083.29    476.59    909.02\n",
      "6         405.73    703.50   1078.52    474.34    917.64\n",
      "7         410.99    701.04   1077.24    485.36    899.54\n",
      "8         407.77    710.97   1078.01    457.82    918.84\n",
      "9         417.46    708.56   1099.57    481.20    938.69\n",
      "10        480.03    822.79   1256.45    573.78   1068.37\n",
      "11        491.44    849.54   1242.79    567.35   1086.43\n",
      "12        493.73    854.34   1262.23    576.04   1086.07\n",
      "\n",
      "📊 Zone-wise Statistics:\n",
      "          EnergyConsumption_mean  EnergyConsumption_std  \\\n",
      "ZoneID                                                    \n",
      "ZONE_001                  447.62                  62.61   \n",
      "ZONE_002                  771.96                  99.85   \n",
      "ZONE_003                 1167.58                 163.98   \n",
      "ZONE_004                  520.19                  74.88   \n",
      "ZONE_005                  997.73                 125.50   \n",
      "\n",
      "          EnergyConsumption_min  EnergyConsumption_max  AvgTemperature_mean  \\\n",
      "ZoneID                                                                        \n",
      "ZONE_001                 311.44                 585.94                14.93   \n",
      "ZONE_002                 580.79                1001.86                14.93   \n",
      "ZONE_003                 806.19                1542.35                14.93   \n",
      "ZONE_004                 329.09                 658.69                14.93   \n",
      "ZONE_005                 741.62                1291.72                14.93   \n",
      "\n",
      "          Humidity_mean  SpecialEvent_sum  \n",
      "ZoneID                                     \n",
      "ZONE_001          69.71               119  \n",
      "ZONE_002          69.71               119  \n",
      "ZONE_003          69.71               119  \n",
      "ZONE_004          69.71               119  \n",
      "ZONE_005          69.71               119  \n",
      "\n",
      "📊 Feature Correlations:\n",
      "                   AvgTemperature  Humidity  SpecialEvent  EnergyConsumption  \\\n",
      "AvgTemperature              1.000    -0.584         0.012             -0.198   \n",
      "Humidity                   -0.584     1.000         0.001              0.109   \n",
      "SpecialEvent                0.012     0.001         1.000             -0.046   \n",
      "EnergyConsumption          -0.198     0.109        -0.046              1.000   \n",
      "Month                      -0.148     0.099        -0.015              0.008   \n",
      "DayOfWeek                   0.001     0.018         0.715             -0.031   \n",
      "\n",
      "                   Month  DayOfWeek  \n",
      "AvgTemperature    -0.148      0.001  \n",
      "Humidity           0.099      0.018  \n",
      "SpecialEvent      -0.015      0.715  \n",
      "EnergyConsumption  0.008     -0.031  \n",
      "Month              1.000      0.006  \n",
      "DayOfWeek          0.006      1.000  \n",
      "\n",
      "📊 Average Consumption: Event vs Non-Event Days:\n",
      "ZoneID        ZONE_001  ZONE_002  ZONE_003  ZONE_004  ZONE_005\n",
      "SpecialEvent                                                  \n",
      "0               477.22    728.04   1251.57    556.43    939.12\n",
      "1               386.19    863.14    993.23    444.94   1119.40\n",
      "\n",
      "📈 Creating Visualizations...\n"
     ]
    },
    {
     "data": {
      "image/png": "[encoded data removed]",
      "text/plain": [
       "<Figure size 2000x1500 with 7 Axes>"
      ]
     },
     "metadata": {},
     "output_type": "display_data"
    },
    {
     "name": "stdout",
     "output_type": "stream",
     "text": [
      "✅ Static visualizations created successfully!\n",
      "\n",
      "🌟 Creating Interactive Visualizations...\n"
     ]
    },
    {
     "data": {
      "application/vnd.plotly.v1+json": {
       "config": {
        "plotlyServerURL": "https://plot.ly"
       },
       "data": [
        {
         "line": {
          "width": 3
         },
         "marker": {
          "size": 8
         },
         "mode": "lines+markers",
         "name": "ZONE_001",
         "type": "scatter",
         "x": {
          "bdata": "AQAAAAIAAAADAAAABAAAAAUAAAAGAAAABwAAAAgAAAAJAAAACgAAAAsAAAAMAAAA",
          "dtype": "i4"
         },
         "y": {
          "bdata": "z1383MWTf0AyqqaICWV+QEeYdYRZ53xA30+Nl242eUBes9c1e3F5QNMGOm2gW3lApHA9CteveUBx9ARHT3x5QMovlvxiF3pAGRqHoXEAfkBn2BUg97Z+QNyhuh2q235A",
          "dtype": "f8"
         }
        },
        {
         "line": {
          "width": 3
         },
         "marker": {
          "size": 8
         },
         "mode": "lines+markers",
         "name": "ZONE_002",
         "type": "scatter",
         "x": {
          "bdata": "AQAAAAIAAAADAAAABAAAAAUAAAAGAAAABwAAAAgAAAAJAAAACgAAAAsAAAAMAAAA",
          "dtype": "i4"
         },
         "y": {
          "bdata": "HWHWEWaPikDLurN3eSCKQOJVJF5FkolAyb3mQtKuhUBfjufleFSGQIcW2c73+4VA2n2l3VfohUCrSLyKxDeGQJe1OiZ4JIZAuR6F61G2iUAc6LSBToyKQK7Z65q9sopA",
          "dtype": "f8"
         }
        },
        {
         "line": {
          "width": 3
         },
         "marker": {
          "size": 8
         },
         "mode": "lines+markers",
         "name": "ZONE_003",
         "type": "scatter",
         "x": {
          "bdata": "AQAAAAIAAAADAAAABAAAAAUAAAAGAAAABwAAAAgAAAAJAAAACgAAAAsAAAAMAAAA",
          "dtype": "i4"
         },
         "y": {
          "bdata": "9Ck3n3JClEDS9rHoOX+TQBVAUgEkKpNAjCW/WPKTkECBfxL4J+2QQOIz7AoQ2pBABUdPcPTUkED9btDvBtiQQDSl4uxDLpFAghEdGNGhk0DqJjEILGuTQJyYvonpuJNA",
          "dtype": "f8"
         }
        },
        {
         "line": {
          "width": 3
         },
         "marker": {
          "size": 8
         },
         "mode": "lines+markers",
         "name": "ZONE_004",
         "type": "scatter",
         "x": {
          "bdata": "AQAAAAIAAAADAAAABAAAAAUAAAAGAAAABwAAAAgAAAAJAAAACgAAAAsAAAAMAAAA",
          "dtype": "i4"
         },
         "y": {
          "bdata": "vRzPy/HsgUD1pYJWX7qBQNKBER0Y94BAg8DKoUUgfUBli1a2aMl9QG5Zq2OCpX1AYmgchsZVfkAZrJHBGp18QL9Y8oslE35AwqwjzDrugUDJveZC0rqBQAL/JPBPAIJA",
          "dtype": "f8"
         }
        },
        {
         "line": {
          "width": 3
         },
         "marker": {
          "size": 8
         },
         "mode": "lines+markers",
         "name": "ZONE_005",
         "type": "scatter",
         "x": {
          "bdata": "AQAAAAIAAAADAAAABAAAAAUAAAAGAAAABwAAAAgAAAAJAAAACgAAAAsAAAAMAAAA",
          "dtype": "i4"
         },
         "y": {
          "bdata": "SnKqJKe/kEDIJcHpwiaRQEZ0YEQHXZBA4cE8Uf8wjUDGGGOMMWiMQMRn2BUgrYxA3DPFPVMcjECKxKtIvLaMQLHkF0t+VY1AFa5H4XqxkEChjN6WtfmQQCw2xGJD+JBA",
          "dtype": "f8"
         }
        }
       ],
       "layout": {
        "height": 500,
        "hovermode": "x unified",
        "template": {
         "data": {
          "bar": [
           {
            "error_x": {
             "color": "#2a3f5f"
            },
            "error_y": {
             "color": "#2a3f5f"
            },
            "marker": {
             "line": {
              "color": "#E5ECF6",
              "width": 0.5
             },
             "pattern": {
              "fillmode": "overlay",
              "size": 10,
              "solidity": 0.2
             }
            },
            "type": "bar"
           }
          ],
          "barpolar": [
           {
            "marker": {
             "line": {
              "color": "#E5ECF6",
              "width": 0.5
             },
             "pattern": {
              "fillmode": "overlay",
              "size": 10,
              "solidity": 0.2
             }
            },
            "type": "barpolar"
           }
          ],
          "carpet": [
           {
            "aaxis": {
             "endlinecolor": "#2a3f5f",
             "gridcolor": "white",
             "linecolor": "white",
             "minorgridcolor": "white",
             "startlinecolor": "#2a3f5f"
            },
            "baxis": {
             "endlinecolor": "#2a3f5f",
             "gridcolor": "white",
             "linecolor": "white",
             "minorgridcolor": "white",
             "startlinecolor": "#2a3f5f"
            },
            "type": "carpet"
           }
          ],
          "choropleth": [
           {
            "colorbar": {
             "outlinewidth": 0,
             "ticks": ""
            },
            "type": "choropleth"
           }
          ],
          "contour": [
           {
            "colorbar": {
             "outlinewidth": 0,
             "ticks": ""
            },
            "colorscale": [
             [
              0,
              "#0d0887"
             ],
             [
              0.1111111111111111,
              "#46039f"
             ],
             [
              0.2222222222222222,
              "#7201a8"
             ],
             [
              0.3333333333333333,
              "#9c179e"
             ],
             [
              0.4444444444444444,
              "#bd3786"
             ],
             [
              0.5555555555555556,
              "#d8576b"
             ],
             [
              0.6666666666666666,
              "#ed7953"
             ],
             [
              0.7777777777777778,
              "#fb9f3a"
             ],
             [
              0.8888888888888888,
              "#fdca26"
             ],
             [
              1,
              "#f0f921"
             ]
            ],
            "type": "contour"
           }
          ],
          "contourcarpet": [
           {
            "colorbar": {
             "outlinewidth": 0,
             "ticks": ""
            },
            "type": "contourcarpet"
           }
          ],
          "heatmap": [
           {
            "colorbar": {
             "outlinewidth": 0,
             "ticks": ""
            },
            "colorscale": [
             [
              0,
              "#0d0887"
             ],
             [
              0.1111111111111111,
              "#46039f"
             ],
             [
              0.2222222222222222,
              "#7201a8"
             ],
             [
              0.3333333333333333,
              "#9c179e"
             ],
             [
              0.4444444444444444,
              "#bd3786"
             ],
             [
              0.5555555555555556,
              "#d8576b"
             ],
             [
              0.6666666666666666,
              "#ed7953"
             ],
             [
              0.7777777777777778,
              "#fb9f3a"
             ],
             [
              0.8888888888888888,
              "#fdca26"
             ],
             [
              1,
              "#f0f921"
             ]
            ],
            "type": "heatmap"
           }
          ],
          "histogram": [
           {
            "marker": {
             "pattern": {
              "fillmode": "overlay",
              "size": 10,
              "solidity": 0.2
             }
            },
            "type": "histogram"
           }
          ],
          "histogram2d": [
           {
            "colorbar": {
             "outlinewidth": 0,
             "ticks": ""
            },
            "colorscale": [
             [
              0,
              "#0d0887"
             ],
             [
              0.1111111111111111,
              "#46039f"
             ],
             [
              0.2222222222222222,
              "#7201a8"
             ],
             [
              0.3333333333333333,
              "#9c179e"
             ],
             [
              0.4444444444444444,
              "#bd3786"
             ],
             [
              0.5555555555555556,
              "#d8576b"
             ],
             [
              0.6666666666666666,
              "#ed7953"
             ],
             [
              0.7777777777777778,
              "#fb9f3a"
             ],
             [
              0.8888888888888888,
              "#fdca26"
             ],
             [
              1,
              "#f0f921"
             ]
            ],
            "type": "histogram2d"
           }
          ],
          "histogram2dcontour": [
           {
            "colorbar": {
             "outlinewidth": 0,
             "ticks": ""
            },
            "colorscale": [
             [
              0,
              "#0d0887"
             ],
             [
              0.1111111111111111,
              "#46039f"
             ],
             [
              0.2222222222222222,
              "#7201a8"
             ],
             [
              0.3333333333333333,
              "#9c179e"
             ],
             [
              0.4444444444444444,
              "#bd3786"
             ],
             [
              0.5555555555555556,
              "#d8576b"
             ],
             [
              0.6666666666666666,
              "#ed7953"
             ],
             [
              0.7777777777777778,
              "#fb9f3a"
             ],
             [
              0.8888888888888888,
              "#fdca26"
             ],
             [
              1,
              "#f0f921"
             ]
            ],
            "type": "histogram2dcontour"
           }
          ],
          "mesh3d": [
           {
            "colorbar": {
             "outlinewidth": 0,
             "ticks": ""
            },
            "type": "mesh3d"
           }
          ],
          "parcoords": [
           {
            "line": {
             "colorbar": {
              "outlinewidth": 0,
              "ticks": ""
             }
            },
            "type": "parcoords"
           }
          ],
          "pie": [
           {
            "automargin": true,
            "type": "pie"
           }
          ],
          "scatter": [
           {
            "fillpattern": {
             "fillmode": "overlay",
             "size": 10,
             "solidity": 0.2
            },
            "type": "scatter"
           }
          ],
          "scatter3d": [
           {
            "line": {
             "colorbar": {
              "outlinewidth": 0,
              "ticks": ""
             }
            },
            "marker": {
             "colorbar": {
              "outlinewidth": 0,
              "ticks": ""
             }
            },
            "type": "scatter3d"
           }
          ],
          "scattercarpet": [
           {
            "marker": {
             "colorbar": {
              "outlinewidth": 0,
              "ticks": ""
             }
            },
            "type": "scattercarpet"
           }
          ],
          "scattergeo": [
           {
            "marker": {
             "colorbar": {
              "outlinewidth": 0,
              "ticks": ""
             }
            },
            "type": "scattergeo"
           }
          ],
          "scattergl": [
           {
            "marker": {
             "colorbar": {
              "outlinewidth": 0,
              "ticks": ""
             }
            },
            "type": "scattergl"
           }
          ],
          "scattermap": [
           {
            "marker": {
             "colorbar": {
              "outlinewidth": 0,
              "ticks": ""
             }
            },
            "type": "scattermap"
           }
          ],
          "scattermapbox": [
           {
            "marker": {
             "colorbar": {
              "outlinewidth": 0,
              "ticks": ""
             }
            },
            "type": "scattermapbox"
           }
          ],
          "scatterpolar": [
           {
            "marker": {
             "colorbar": {
              "outlinewidth": 0,
              "ticks": ""
             }
            },
            "type": "scatterpolar"
           }
          ],
          "scatterpolargl": [
           {
            "marker": {
             "colorbar": {
              "outlinewidth": 0,
              "ticks": ""
             }
            },
            "type": "scatterpolargl"
           }
          ],
          "scatterternary": [
           {
            "marker": {
             "colorbar": {
              "outlinewidth": 0,
              "ticks": ""
             }
            },
            "type": "scatterternary"
           }
          ],
          "surface": [
           {
            "colorbar": {
             "outlinewidth": 0,
             "ticks": ""
            },
            "colorscale": [
             [
              0,
              "#0d0887"
             ],
             [
              0.1111111111111111,
              "#46039f"
             ],
             [
              0.2222222222222222,
              "#7201a8"
             ],
             [
              0.3333333333333333,
              "#9c179e"
             ],
             [
              0.4444444444444444,
              "#bd3786"
             ],
             [
              0.5555555555555556,
              "#d8576b"
             ],
             [
              0.6666666666666666,
              "#ed7953"
             ],
             [
              0.7777777777777778,
              "#fb9f3a"
             ],
             [
              0.8888888888888888,
              "#fdca26"
             ],
             [
              1,
              "#f0f921"
             ]
            ],
            "type": "surface"
           }
          ],
          "table": [
           {
            "cells": {
             "fill": {
              "color": "#EBF0F8"
             },
             "line": {
              "color": "white"
             }
            },
            "header": {
             "fill": {
              "color": "#C8D4E3"
             },
             "line": {
              "color": "white"
             }
            },
            "type": "table"
           }
          ]
         },
         "layout": {
          "annotationdefaults": {
           "arrowcolor": "#2a3f5f",
           "arrowhead": 0,
           "arrowwidth": 1
          },
          "autotypenumbers": "strict",
          "coloraxis": {
           "colorbar": {
            "outlinewidth": 0,
            "ticks": ""
           }
          },
          "colorscale": {
           "diverging": [
            [
             0,
             "#8e0152"
            ],
            [
             0.1,
             "#c51b7d"
            ],
            [
             0.2,
             "#de77ae"
            ],
            [
             0.3,
             "#f1b6da"
            ],
            [
             0.4,
             "#fde0ef"
            ],
            [
             0.5,
             "#f7f7f7"
            ],
            [
             0.6,
             "#e6f5d0"
            ],
            [
             0.7,
             "#b8e186"
            ],
            [
             0.8,
             "#7fbc41"
            ],
            [
             0.9,
             "#4d9221"
            ],
            [
             1,
             "#276419"
            ]
           ],
           "sequential": [
            [
             0,
             "#0d0887"
            ],
            [
             0.1111111111111111,
             "#46039f"
            ],
            [
             0.2222222222222222,
             "#7201a8"
            ],
            [
             0.3333333333333333,
             "#9c179e"
            ],
            [
             0.4444444444444444,
             "#bd3786"
            ],
            [
             0.5555555555555556,
             "#d8576b"
            ],
            [
             0.6666666666666666,
             "#ed7953"
            ],
            [
             0.7777777777777778,
             "#fb9f3a"
            ],
            [
             0.8888888888888888,
             "#fdca26"
            ],
            [
             1,
             "#f0f921"
            ]
           ],
           "sequentialminus": [
            [
             0,
             "#0d0887"
            ],
            [
             0.1111111111111111,
             "#46039f"
            ],
            [
             0.2222222222222222,
             "#7201a8"
            ],
            [
             0.3333333333333333,
             "#9c179e"
            ],
            [
             0.4444444444444444,
             "#bd3786"
            ],
            [
             0.5555555555555556,
             "#d8576b"
            ],
            [
             0.6666666666666666,
             "#ed7953"
            ],
            [
             0.7777777777777778,
             "#fb9f3a"
            ],
            [
             0.8888888888888888,
             "#fdca26"
            ],
            [
             1,
             "#f0f921"
            ]
           ]
          },
          "colorway": [
           "#636efa",
           "#EF553B",
           "#00cc96",
           "#ab63fa",
           "#FFA15A",
           "#19d3f3",
           "#FF6692",
           "#B6E880",
           "#FF97FF",
           "#FECB52"
          ],
          "font": {
           "color": "#2a3f5f"
          },
          "geo": {
           "bgcolor": "white",
           "lakecolor": "white",
           "landcolor": "#E5ECF6",
           "showlakes": true,
           "showland": true,
           "subunitcolor": "white"
          },
          "hoverlabel": {
           "align": "left"
          },
          "hovermode": "closest",
          "mapbox": {
           "style": "light"
          },
          "paper_bgcolor": "white",
          "plot_bgcolor": "#E5ECF6",
          "polar": {
           "angularaxis": {
            "gridcolor": "white",
            "linecolor": "white",
            "ticks": ""
           },
           "bgcolor": "#E5ECF6",
           "radialaxis": {
            "gridcolor": "white",
            "linecolor": "white",
            "ticks": ""
           }
          },
          "scene": {
           "xaxis": {
            "backgroundcolor": "#E5ECF6",
            "gridcolor": "white",
            "gridwidth": 2,
            "linecolor": "white",
            "showbackground": true,
            "ticks": "",
            "zerolinecolor": "white"
           },
           "yaxis": {
            "backgroundcolor": "#E5ECF6",
            "gridcolor": "white",
            "gridwidth": 2,
            "linecolor": "white",
            "showbackground": true,
            "ticks": "",
            "zerolinecolor": "white"
           },
           "zaxis": {
            "backgroundcolor": "#E5ECF6",
            "gridcolor": "white",
            "gridwidth": 2,
            "linecolor": "white",
            "showbackground": true,
            "ticks": "",
            "zerolinecolor": "white"
           }
          },
          "shapedefaults": {
           "line": {
            "color": "#2a3f5f"
           }
          },
          "ternary": {
           "aaxis": {
            "gridcolor": "white",
            "linecolor": "white",
            "ticks": ""
           },
           "baxis": {
            "gridcolor": "white",
            "linecolor": "white",
            "ticks": ""
           },
           "bgcolor": "#E5ECF6",
           "caxis": {
            "gridcolor": "white",
            "linecolor": "white",
            "ticks": ""
           }
          },
          "title": {
           "x": 0.05
          },
          "xaxis": {
           "automargin": true,
           "gridcolor": "white",
           "linecolor": "white",
           "ticks": "",
           "title": {
            "standoff": 15
           },
           "zerolinecolor": "white",
           "zerolinewidth": 2
          },
          "yaxis": {
           "automargin": true,
           "gridcolor": "white",
           "linecolor": "white",
           "ticks": "",
           "title": {
            "standoff": 15
           },
           "zerolinecolor": "white",
           "zerolinewidth": 2
          }
         }
        },
        "title": {
         "text": "Interactive Monthly Energy Usage Trends"
        },
        "xaxis": {
         "title": {
          "text": "Month"
         }
        },
        "yaxis": {
         "title": {
          "text": "Energy Consumption (kWh)"
         }
        }
       }
      }
     },
     "metadata": {},
     "output_type": "display_data"
    },
    {
     "data": {
      "application/vnd.plotly.v1+json": {
       "config": {
        "plotlyServerURL": "https://plot.ly"
       },
       "data": [
        {
         "alignmentgroup": "True",
         "hovertemplate": "ZoneID=%{x}<br>EnergyConsumption=%{y}<extra></extra>",
         "legendgroup": "ZONE_001",
         "marker": {
          "color": "#636efa"
         },
         "name": "ZONE_001",
         "notched": false,
         "offsetgroup": "ZONE_001",
         "orientation": "v",
         "showlegend": true,
         "type": "box",
         "x": [
          "ZONE_001",
          "ZONE_001",
          "ZONE_001",
          "ZONE_001",
          "ZONE_001",
          "ZONE_001",
          "ZONE_001",
          "ZONE_001",
          "ZONE_001",
          "ZONE_001",
          "ZONE_001",
          "ZONE_001",
          "ZONE_001",
          "ZONE_001",
          "ZONE_001",
          "ZONE_001",
          "ZONE_001",
          "ZONE_001",
          "ZONE_001",
          "ZONE_001",
          "ZONE_001",
          "ZONE_001",
          "ZONE_001",
          "ZONE_001",
          "ZONE_001",
          "ZONE_001",
          "ZONE_001",
          "ZONE_001",
          "ZONE_001",
          "ZONE_001",
          "ZONE_001",
          "ZONE_001",
          "ZONE_001",
          "ZONE_001",
          "ZONE_001",
          "ZONE_001",
          "ZONE_001",
          "ZONE_001",
          "ZONE_001",
          "ZONE_001",
          "ZONE_001",
          "ZONE_001",
          "ZONE_001",
          "ZONE_001",
          "ZONE_001",
          "ZONE_001",
          "ZONE_001",
          "ZONE_001",
          "ZONE_001",
          "ZONE_001",
          "ZONE_001",
          "ZONE_001",
          "ZONE_001",
          "ZONE_001",
          "ZONE_001",
          "ZONE_001",
          "ZONE_001",
          "ZONE_001",
          "ZONE_001",
          "ZONE_001",
          "ZONE_001",
          "ZONE_001",
          "ZONE_001",
          "ZONE_001",
          "ZONE_001",
          "ZONE_001",
          "ZONE_001",
          "ZONE_001",
          "ZONE_001",
          "ZONE_001",
          "ZONE_001",
          "ZONE_001",
          "ZONE_001",
          "ZONE_001",
          "ZONE_001",
          "ZONE_001",
          "ZONE_001",
          "ZONE_001",
          "ZONE_001",
          "ZONE_001",
          "ZONE_001",
          "ZONE_001",
          "ZONE_001",
          "ZONE_001",
          "ZONE_001",
          "ZONE_001",
          "ZONE_001",
          "ZONE_001",
          "ZONE_001",
          "ZONE_001",
          "ZONE_001",
          "ZONE_001",
          "ZONE_001",
          "ZONE_001",
          "ZONE_001",
          "ZONE_001",
          "ZONE_001",
          "ZONE_001",
          "ZONE_001",
          "ZONE_001",
          "ZONE_001",
          "ZONE_001",
          "ZONE_001",
          "ZONE_001",
          "ZONE_001",
          "ZONE_001",
          "ZONE_001",
          "ZONE_001",
          "ZONE_001",
          "ZONE_001",
          "ZONE_001",
          "ZONE_001",
          "ZONE_001",
          "ZONE_001",
          "ZONE_001",
          "ZONE_001",
          "ZONE_001",
          "ZONE_001",
          "ZONE_001",
          "ZONE_001",
          "ZONE_001",
          "ZONE_001",
          "ZONE_001",
          "ZONE_001",
          "ZONE_001",
          "ZONE_001",
          "ZONE_001",
          "ZONE_001",
          "ZONE_001",
          "ZONE_001",
          "ZONE_001",
          "ZONE_001",
          "ZONE_001",
          "ZONE_001",
          "ZONE_001",
          "ZONE_001",
          "ZONE_001",
          "ZONE_001",
          "ZONE_001",
          "ZONE_001",
          "ZONE_001",
          "ZONE_001",
          "ZONE_001",
          "ZONE_001",
          "ZONE_001",
          "ZONE_001",
          "ZONE_001",
          "ZONE_001",
          "ZONE_001",
          "ZONE_001",
          "ZONE_001",
          "ZONE_001",
          "ZONE_001",
          "ZONE_001",
          "ZONE_001",
          "ZONE_001",
          "ZONE_001",
          "ZONE_001",
          "ZONE_001",
          "ZONE_001",
          "ZONE_001",
          "ZONE_001",
          "ZONE_001",
          "ZONE_001",
          "ZONE_001",
          "ZONE_001",
          "ZONE_001",
          "ZONE_001",
          "ZONE_001",
          "ZONE_001",
          "ZONE_001",
          "ZONE_001",
          "ZONE_001",
          "ZONE_001",
          "ZONE_001",
          "ZONE_001",
          "ZONE_001",
          "ZONE_001",
          "ZONE_001",
          "ZONE_001",
          "ZONE_001",
          "ZONE_001",
          "ZONE_001",
          "ZONE_001",
          "ZONE_001",
          "ZONE_001",
          "ZONE_001",
          "ZONE_001",
          "ZONE_001",
          "ZONE_001",
          "ZONE_001",
          "ZONE_001",
          "ZONE_001",
          "ZONE_001",
          "ZONE_001",
          "ZONE_001",
          "ZONE_001",
          "ZONE_001",
          "ZONE_001",
          "ZONE_001",
          "ZONE_001",
          "ZONE_001",
          "ZONE_001",
          "ZONE_001",
          "ZONE_001",
          "ZONE_001",
          "ZONE_001",
          "ZONE_001",
          "ZONE_001",
          "ZONE_001",
          "ZONE_001",
          "ZONE_001",
          "ZONE_001",
          "ZONE_001",
          "ZONE_001",
          "ZONE_001",
          "ZONE_001",
          "ZONE_001",
          "ZONE_001",
          "ZONE_001",
          "ZONE_001",
          "ZONE_001",
          "ZONE_001",
          "ZONE_001",
          "ZONE_001",
          "ZONE_001",
          "ZONE_001",
          "ZONE_001",
          "ZONE_001",
          "ZONE_001",
          "ZONE_001",
          "ZONE_001",
          "ZONE_001",
          "ZONE_001",
          "ZONE_001",
          "ZONE_001",
          "ZONE_001",
          "ZONE_001",
          "ZONE_001",
          "ZONE_001",
          "ZONE_001",
          "ZONE_001",
          "ZONE_001",
          "ZONE_001",
          "ZONE_001",
          "ZONE_001",
          "ZONE_001",
          "ZONE_001",
          "ZONE_001",
          "ZONE_001",
          "ZONE_001",
          "ZONE_001",
          "ZONE_001",
          "ZONE_001",
          "ZONE_001",
          "ZONE_001",
          "ZONE_001",
          "ZONE_001",
          "ZONE_001",
          "ZONE_001",
          "ZONE_001",
          "ZONE_001",
          "ZONE_001",
          "ZONE_001",
          "ZONE_001",
          "ZONE_001",
          "ZONE_001",
          "ZONE_001",
          "ZONE_001",
          "ZONE_001",
          "ZONE_001",
          "ZONE_001",
          "ZONE_001",
          "ZONE_001",
          "ZONE_001",
          "ZONE_001",
          "ZONE_001",
          "ZONE_001",
          "ZONE_001",
          "ZONE_001",
          "ZONE_001",
          "ZONE_001",
          "ZONE_001",
          "ZONE_001",
          "ZONE_001",
          "ZONE_001",
          "ZONE_001",
          "ZONE_001",
          "ZONE_001",
          "ZONE_001",
          "ZONE_001",
          "ZONE_001",
          "ZONE_001",
          "ZONE_001",
          "ZONE_001",
          "ZONE_001",
          "ZONE_001",
          "ZONE_001",
          "ZONE_001",
          "ZONE_001",
          "ZONE_001",
          "ZONE_001",
          "ZONE_001",
          "ZONE_001",
          "ZONE_001",
          "ZONE_001",
          "ZONE_001",
          "ZONE_001",
          "ZONE_001",
          "ZONE_001",
          "ZONE_001",
          "ZONE_001",
          "ZONE_001",
          "ZONE_001",
          "ZONE_001",
          "ZONE_001",
          "ZONE_001",
          "ZONE_001",
          "ZONE_001",
          "ZONE_001",
          "ZONE_001",
          "ZONE_001",
          "ZONE_001",
          "ZONE_001",
          "ZONE_001",
          "ZONE_001",
          "ZONE_001",
          "ZONE_001",
          "ZONE_001",
          "ZONE_001",
          "ZONE_001",
          "ZONE_001",
          "ZONE_001",
          "ZONE_001",
          "ZONE_001",
          "ZONE_001",
          "ZONE_001",
          "ZONE_001",
          "ZONE_001",
          "ZONE_001",
          "ZONE_001",
          "ZONE_001",
          "ZONE_001",
          "ZONE_001",
          "ZONE_001",
          "ZONE_001",
          "ZONE_001",
          "ZONE_001",
          "ZONE_001",
          "ZONE_001",
          "ZONE_001",
          "ZONE_001",
          "ZONE_001",
          "ZONE_001",
          "ZONE_001",
          "ZONE_001",
          "ZONE_001",
          "ZONE_001",
          "ZONE_001",
          "ZONE_001",
          "ZONE_001",
          "ZONE_001",
          "ZONE_001",
          "ZONE_001",
          "ZONE_001",
          "ZONE_001"
         ],
         "x0": " ",
         "xaxis": "x",
         "y": {
          "bdata": "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",
          "dtype": "f8"
         },
         "y0": " ",
         "yaxis": "y"
        },
        {
         "alignmentgroup": "True",
         "hovertemplate": "ZoneID=%{x}<br>EnergyConsumption=%{y}<extra></extra>",
         "legendgroup": "ZONE_002",
         "marker": {
          "color": "#EF553B"
         },
         "name": "ZONE_002",
         "notched": false,
         "offsetgroup": "ZONE_002",
         "orientation": "v",
         "showlegend": true,
         "type": "box",
         "x": [
          "ZONE_002",
          "ZONE_002",
          "ZONE_002",
          "ZONE_002",
          "ZONE_002",
          "ZONE_002",
          "ZONE_002",
          "ZONE_002",
          "ZONE_002",
          "ZONE_002",
          "ZONE_002",
          "ZONE_002",
          "ZONE_002",
          "ZONE_002",
          "ZONE_002",
          "ZONE_002",
          "ZONE_002",
          "ZONE_002",
          "ZONE_002",
          "ZONE_002",
          "ZONE_002",
          "ZONE_002",
          "ZONE_002",
          "ZONE_002",
          "ZONE_002",
          "ZONE_002",
          "ZONE_002",
          "ZONE_002",
          "ZONE_002",
          "ZONE_002",
          "ZONE_002",
          "ZONE_002",
          "ZONE_002",
          "ZONE_002",
          "ZONE_002",
          "ZONE_002",
          "ZONE_002",
          "ZONE_002",
          "ZONE_002",
          "ZONE_002",
          "ZONE_002",
          "ZONE_002",
          "ZONE_002",
          "ZONE_002",
          "ZONE_002",
          "ZONE_002",
          "ZONE_002",
          "ZONE_002",
          "ZONE_002",
          "ZONE_002",
          "ZONE_002",
          "ZONE_002",
          "ZONE_002",
          "ZONE_002",
          "ZONE_002",
          "ZONE_002",
          "ZONE_002",
          "ZONE_002",
          "ZONE_002",
          "ZONE_002",
          "ZONE_002",
          "ZONE_002",
          "ZONE_002",
          "ZONE_002",
          "ZONE_002",
          "ZONE_002",
          "ZONE_002",
          "ZONE_002",
          "ZONE_002",
          "ZONE_002",
          "ZONE_002",
          "ZONE_002",
          "ZONE_002",
          "ZONE_002",
          "ZONE_002",
          "ZONE_002",
          "ZONE_002",
          "ZONE_002",
          "ZONE_002",
          "ZONE_002",
          "ZONE_002",
          "ZONE_002",
          "ZONE_002",
          "ZONE_002",
          "ZONE_002",
          "ZONE_002",
          "ZONE_002",
          "ZONE_002",
          "ZONE_002",
          "ZONE_002",
          "ZONE_002",
          "ZONE_002",
          "ZONE_002",
          "ZONE_002",
          "ZONE_002",
          "ZONE_002",
          "ZONE_002",
          "ZONE_002",
          "ZONE_002",
          "ZONE_002",
          "ZONE_002",
          "ZONE_002",
          "ZONE_002",
          "ZONE_002",
          "ZONE_002",
          "ZONE_002",
          "ZONE_002",
          "ZONE_002",
          "ZONE_002",
          "ZONE_002",
          "ZONE_002",
          "ZONE_002",
          "ZONE_002",
          "ZONE_002",
          "ZONE_002",
          "ZONE_002",
          "ZONE_002",
          "ZONE_002",
          "ZONE_002",
          "ZONE_002",
          "ZONE_002",
          "ZONE_002",
          "ZONE_002",
          "ZONE_002",
          "ZONE_002",
          "ZONE_002",
          "ZONE_002",
          "ZONE_002",
          "ZONE_002",
          "ZONE_002",
          "ZONE_002",
          "ZONE_002",
          "ZONE_002",
          "ZONE_002",
          "ZONE_002",
          "ZONE_002",
          "ZONE_002",
          "ZONE_002",
          "ZONE_002",
          "ZONE_002",
          "ZONE_002",
          "ZONE_002",
          "ZONE_002",
          "ZONE_002",
          "ZONE_002",
          "ZONE_002",
          "ZONE_002",
          "ZONE_002",
          "ZONE_002",
          "ZONE_002",
          "ZONE_002",
          "ZONE_002",
          "ZONE_002",
          "ZONE_002",
          "ZONE_002",
          "ZONE_002",
          "ZONE_002",
          "ZONE_002",
          "ZONE_002",
          "ZONE_002",
          "ZONE_002",
          "ZONE_002",
          "ZONE_002",
          "ZONE_002",
          "ZONE_002",
          "ZONE_002",
          "ZONE_002",
          "ZONE_002",
          "ZONE_002",
          "ZONE_002",
          "ZONE_002",
          "ZONE_002",
          "ZONE_002",
          "ZONE_002",
          "ZONE_002",
          "ZONE_002",
          "ZONE_002",
          "ZONE_002",
          "ZONE_002",
          "ZONE_002",
          "ZONE_002",
          "ZONE_002",
          "ZONE_002",
          "ZONE_002",
          "ZONE_002",
          "ZONE_002",
          "ZONE_002",
          "ZONE_002",
          "ZONE_002",
          "ZONE_002",
          "ZONE_002",
          "ZONE_002",
          "ZONE_002",
          "ZONE_002",
          "ZONE_002",
          "ZONE_002",
          "ZONE_002",
          "ZONE_002",
          "ZONE_002",
          "ZONE_002",
          "ZONE_002",
          "ZONE_002",
          "ZONE_002",
          "ZONE_002",
          "ZONE_002",
          "ZONE_002",
          "ZONE_002",
          "ZONE_002",
          "ZONE_002",
          "ZONE_002",
          "ZONE_002",
          "ZONE_002",
          "ZONE_002",
          "ZONE_002",
          "ZONE_002",
          "ZONE_002",
          "ZONE_002",
          "ZONE_002",
          "ZONE_002",
          "ZONE_002",
          "ZONE_002",
          "ZONE_002",
          "ZONE_002",
          "ZONE_002",
          "ZONE_002",
          "ZONE_002",
          "ZONE_002",
          "ZONE_002",
          "ZONE_002",
          "ZONE_002",
          "ZONE_002",
          "ZONE_002",
          "ZONE_002",
          "ZONE_002",
          "ZONE_002",
          "ZONE_002",
          "ZONE_002",
          "ZONE_002",
          "ZONE_002",
          "ZONE_002",
          "ZONE_002",
          "ZONE_002",
          "ZONE_002",
          "ZONE_002",
          "ZONE_002",
          "ZONE_002",
          "ZONE_002",
          "ZONE_002",
          "ZONE_002",
          "ZONE_002",
          "ZONE_002",
          "ZONE_002",
          "ZONE_002",
          "ZONE_002",
          "ZONE_002",
          "ZONE_002",
          "ZONE_002",
          "ZONE_002",
          "ZONE_002",
          "ZONE_002",
          "ZONE_002",
          "ZONE_002",
          "ZONE_002",
          "ZONE_002",
          "ZONE_002",
          "ZONE_002",
          "ZONE_002",
          "ZONE_002",
          "ZONE_002",
          "ZONE_002",
          "ZONE_002",
          "ZONE_002",
          "ZONE_002",
          "ZONE_002",
          "ZONE_002",
          "ZONE_002",
          "ZONE_002",
          "ZONE_002",
          "ZONE_002",
          "ZONE_002",
          "ZONE_002",
          "ZONE_002",
          "ZONE_002",
          "ZONE_002",
          "ZONE_002",
          "ZONE_002",
          "ZONE_002",
          "ZONE_002",
          "ZONE_002",
          "ZONE_002",
          "ZONE_002",
          "ZONE_002",
          "ZONE_002",
          "ZONE_002",
          "ZONE_002",
          "ZONE_002",
          "ZONE_002",
          "ZONE_002",
          "ZONE_002",
          "ZONE_002",
          "ZONE_002",
          "ZONE_002",
          "ZONE_002",
          "ZONE_002",
          "ZONE_002",
          "ZONE_002",
          "ZONE_002",
          "ZONE_002",
          "ZONE_002",
          "ZONE_002",
          "ZONE_002",
          "ZONE_002",
          "ZONE_002",
          "ZONE_002",
          "ZONE_002",
          "ZONE_002",
          "ZONE_002",
          "ZONE_002",
          "ZONE_002",
          "ZONE_002",
          "ZONE_002",
          "ZONE_002",
          "ZONE_002",
          "ZONE_002",
          "ZONE_002",
          "ZONE_002",
          "ZONE_002",
          "ZONE_002",
          "ZONE_002",
          "ZONE_002",
          "ZONE_002",
          "ZONE_002",
          "ZONE_002",
          "ZONE_002",
          "ZONE_002",
          "ZONE_002",
          "ZONE_002",
          "ZONE_002",
          "ZONE_002",
          "ZONE_002",
          "ZONE_002",
          "ZONE_002",
          "ZONE_002",
          "ZONE_002",
          "ZONE_002",
          "ZONE_002",
          "ZONE_002",
          "ZONE_002",
          "ZONE_002",
          "ZONE_002",
          "ZONE_002",
          "ZONE_002",
          "ZONE_002",
          "ZONE_002",
          "ZONE_002",
          "ZONE_002",
          "ZONE_002",
          "ZONE_002",
          "ZONE_002",
          "ZONE_002",
          "ZONE_002",
          "ZONE_002",
          "ZONE_002",
          "ZONE_002",
          "ZONE_002",
          "ZONE_002"
         ],
         "x0": " ",
         "xaxis": "x",
         "y": {
          "bdata": "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",
          "dtype": "f8"
         },
         "y0": " ",
         "yaxis": "y"
        },
        {
         "alignmentgroup": "True",
         "hovertemplate": "ZoneID=%{x}<br>EnergyConsumption=%{y}<extra></extra>",
         "legendgroup": "ZONE_003",
         "marker": {
          "color": "#00cc96"
         },
         "name": "ZONE_003",
         "notched": false,
         "offsetgroup": "ZONE_003",
         "orientation": "v",
         "showlegend": true,
         "type": "box",
         "x": [
          "ZONE_003",
          "ZONE_003",
          "ZONE_003",
          "ZONE_003",
          "ZONE_003",
          "ZONE_003",
          "ZONE_003",
          "ZONE_003",
          "ZONE_003",
          "ZONE_003",
          "ZONE_003",
          "ZONE_003",
          "ZONE_003",
          "ZONE_003",
          "ZONE_003",
          "ZONE_003",
          "ZONE_003",
          "ZONE_003",
          "ZONE_003",
          "ZONE_003",
          "ZONE_003",
          "ZONE_003",
          "ZONE_003",
          "ZONE_003",
          "ZONE_003",
          "ZONE_003",
          "ZONE_003",
          "ZONE_003",
          "ZONE_003",
          "ZONE_003",
          "ZONE_003",
          "ZONE_003",
          "ZONE_003",
          "ZONE_003",
          "ZONE_003",
          "ZONE_003",
          "ZONE_003",
          "ZONE_003",
          "ZONE_003",
          "ZONE_003",
          "ZONE_003",
          "ZONE_003",
          "ZONE_003",
          "ZONE_003",
          "ZONE_003",
          "ZONE_003",
          "ZONE_003",
          "ZONE_003",
          "ZONE_003",
          "ZONE_003",
          "ZONE_003",
          "ZONE_003",
          "ZONE_003",
          "ZONE_003",
          "ZONE_003",
          "ZONE_003",
          "ZONE_003",
          "ZONE_003",
          "ZONE_003",
          "ZONE_003",
          "ZONE_003",
          "ZONE_003",
          "ZONE_003",
          "ZONE_003",
          "ZONE_003",
          "ZONE_003",
          "ZONE_003",
          "ZONE_003",
          "ZONE_003",
          "ZONE_003",
          "ZONE_003",
          "ZONE_003",
          "ZONE_003",
          "ZONE_003",
          "ZONE_003",
          "ZONE_003",
          "ZONE_003",
          "ZONE_003",
          "ZONE_003",
          "ZONE_003",
          "ZONE_003",
          "ZONE_003",
          "ZONE_003",
          "ZONE_003",
          "ZONE_003",
          "ZONE_003",
          "ZONE_003",
          "ZONE_003",
          "ZONE_003",
          "ZONE_003",
          "ZONE_003",
          "ZONE_003",
          "ZONE_003",
          "ZONE_003",
          "ZONE_003",
          "ZONE_003",
          "ZONE_003",
          "ZONE_003",
          "ZONE_003",
          "ZONE_003",
          "ZONE_003",
          "ZONE_003",
          "ZONE_003",
          "ZONE_003",
          "ZONE_003",
          "ZONE_003",
          "ZONE_003",
          "ZONE_003",
          "ZONE_003",
          "ZONE_003",
          "ZONE_003",
          "ZONE_003",
          "ZONE_003",
          "ZONE_003",
          "ZONE_003",
          "ZONE_003",
          "ZONE_003",
          "ZONE_003",
          "ZONE_003",
          "ZONE_003",
          "ZONE_003",
          "ZONE_003",
          "ZONE_003",
          "ZONE_003",
          "ZONE_003",
          "ZONE_003",
          "ZONE_003",
          "ZONE_003",
          "ZONE_003",
          "ZONE_003",
          "ZONE_003",
          "ZONE_003",
          "ZONE_003",
          "ZONE_003",
          "ZONE_003",
          "ZONE_003",
          "ZONE_003",
          "ZONE_003",
          "ZONE_003",
          "ZONE_003",
          "ZONE_003",
          "ZONE_003",
          "ZONE_003",
          "ZONE_003",
          "ZONE_003",
          "ZONE_003",
          "ZONE_003",
          "ZONE_003",
          "ZONE_003",
          "ZONE_003",
          "ZONE_003",
          "ZONE_003",
          "ZONE_003",
          "ZONE_003",
          "ZONE_003",
          "ZONE_003",
          "ZONE_003",
          "ZONE_003",
          "ZONE_003",
          "ZONE_003",
          "ZONE_003",
          "ZONE_003",
          "ZONE_003",
          "ZONE_003",
          "ZONE_003",
          "ZONE_003",
          "ZONE_003",
          "ZONE_003",
          "ZONE_003",
          "ZONE_003",
          "ZONE_003",
          "ZONE_003",
          "ZONE_003",
          "ZONE_003",
          "ZONE_003",
          "ZONE_003",
          "ZONE_003",
          "ZONE_003",
          "ZONE_003",
          "ZONE_003",
          "ZONE_003",
          "ZONE_003",
          "ZONE_003",
          "ZONE_003",
          "ZONE_003",
          "ZONE_003",
          "ZONE_003",
          "ZONE_003",
          "ZONE_003",
          "ZONE_003",
          "ZONE_003",
          "ZONE_003",
          "ZONE_003",
          "ZONE_003",
          "ZONE_003",
          "ZONE_003",
          "ZONE_003",
          "ZONE_003",
          "ZONE_003",
          "ZONE_003",
          "ZONE_003",
          "ZONE_003",
          "ZONE_003",
          "ZONE_003",
          "ZONE_003",
          "ZONE_003",
          "ZONE_003",
          "ZONE_003",
          "ZONE_003",
          "ZONE_003",
          "ZONE_003",
          "ZONE_003",
          "ZONE_003",
          "ZONE_003",
          "ZONE_003",
          "ZONE_003",
          "ZONE_003",
          "ZONE_003",
          "ZONE_003",
          "ZONE_003",
          "ZONE_003",
          "ZONE_003",
          "ZONE_003",
          "ZONE_003",
          "ZONE_003",
          "ZONE_003",
          "ZONE_003",
          "ZONE_003",
          "ZONE_003",
          "ZONE_003",
          "ZONE_003",
          "ZONE_003",
          "ZONE_003",
          "ZONE_003",
          "ZONE_003",
          "ZONE_003",
          "ZONE_003",
          "ZONE_003",
          "ZONE_003",
          "ZONE_003",
          "ZONE_003",
          "ZONE_003",
          "ZONE_003",
          "ZONE_003",
          "ZONE_003",
          "ZONE_003",
          "ZONE_003",
          "ZONE_003",
          "ZONE_003",
          "ZONE_003",
          "ZONE_003",
          "ZONE_003",
          "ZONE_003",
          "ZONE_003",
          "ZONE_003",
          "ZONE_003",
          "ZONE_003",
          "ZONE_003",
          "ZONE_003",
          "ZONE_003",
          "ZONE_003",
          "ZONE_003",
          "ZONE_003",
          "ZONE_003",
          "ZONE_003",
          "ZONE_003",
          "ZONE_003",
          "ZONE_003",
          "ZONE_003",
          "ZONE_003",
          "ZONE_003",
          "ZONE_003",
          "ZONE_003",
          "ZONE_003",
          "ZONE_003",
          "ZONE_003",
          "ZONE_003",
          "ZONE_003",
          "ZONE_003",
          "ZONE_003",
          "ZONE_003",
          "ZONE_003",
          "ZONE_003",
          "ZONE_003",
          "ZONE_003",
          "ZONE_003",
          "ZONE_003",
          "ZONE_003",
          "ZONE_003",
          "ZONE_003",
          "ZONE_003",
          "ZONE_003",
          "ZONE_003",
          "ZONE_003",
          "ZONE_003",
          "ZONE_003",
          "ZONE_003",
          "ZONE_003",
          "ZONE_003",
          "ZONE_003",
          "ZONE_003",
          "ZONE_003",
          "ZONE_003",
          "ZONE_003",
          "ZONE_003",
          "ZONE_003",
          "ZONE_003",
          "ZONE_003",
          "ZONE_003",
          "ZONE_003",
          "ZONE_003",
          "ZONE_003",
          "ZONE_003",
          "ZONE_003",
          "ZONE_003",
          "ZONE_003",
          "ZONE_003",
          "ZONE_003",
          "ZONE_003",
          "ZONE_003",
          "ZONE_003",
          "ZONE_003",
          "ZONE_003",
          "ZONE_003",
          "ZONE_003",
          "ZONE_003",
          "ZONE_003",
          "ZONE_003",
          "ZONE_003",
          "ZONE_003",
          "ZONE_003",
          "ZONE_003",
          "ZONE_003",
          "ZONE_003",
          "ZONE_003",
          "ZONE_003",
          "ZONE_003",
          "ZONE_003",
          "ZONE_003",
          "ZONE_003",
          "ZONE_003",
          "ZONE_003",
          "ZONE_003",
          "ZONE_003",
          "ZONE_003",
          "ZONE_003",
          "ZONE_003",
          "ZONE_003",
          "ZONE_003",
          "ZONE_003",
          "ZONE_003",
          "ZONE_003",
          "ZONE_003",
          "ZONE_003",
          "ZONE_003",
          "ZONE_003",
          "ZONE_003",
          "ZONE_003",
          "ZONE_003",
          "ZONE_003",
          "ZONE_003",
          "ZONE_003",
          "ZONE_003",
          "ZONE_003",
          "ZONE_003",
          "ZONE_003"
         ],
         "x0": " ",
         "xaxis": "x",
         "y": {
          "bdata": "SOF6FK4zlUDNzMzMzHWUQI/C9ShcZ5dASOF6FK64lkDhehSuRyCVQNejcD0KFZBAj8L1KFyckEDXo3A9Ci2WQGZmZmZmGZhAFK5H4XpKlUCuR+F6FDuVQFK4HoXrkZNA7FG4HoWAkEAfhetRuLuQQLgehetRZ5RAj8L1KFwXlECamZmZmYOWQFK4HoXraJZAZmZmZmaYlEC4HoXrUeWRQFyPwvUofZFACtejcD3DlkDNzMzMzBqWQClcj8L1X5VAKVyPwvXhlUCF61G4HheVQNejcD0K+Y5AMzMzMzPVkUA9CtejcOSUQMP1KFyPypFAcT0K16M4lkDhehSuR8eUQB+F61G42JVAPQrXo3D/jkDNzMzMzM6NQM3MzMzM15RAPQrXo3D1jUBSuB6F6zSUQHsUrkfhQJVA9ihcj8LzlECkcD0K14CRQNejcD0KoZBAFK5H4XqilUCkcD0K15GUQNejcD0KbpVAKVyPwvVElkCamZmZme2RQDMzMzMzKJFAXI/C9ShNkEApXI/C9TOUQClcj8L1apVAFK5H4XpVlEDsUbgehRaVQEjhehSuTZVAH4XrUbg7kkA9CtejcJyRQI/C9Shcs5VAUrgehevelEAfhetRuOGTQD0K16NwFZRAPQrXo3BRlUAAAAAAAB6PQEjhehSuu5BA16NwPQp2k0BSuB6F6/CWQJqZmZmZgZZAFK5H4Xp4kkAfhetRuN6TQFyPwvUoBJBApHA9CtctjkCamZmZmdaVQK5H4XoUFpRA9ihcj8JolECkcD0K11OUQDMzMzMznpRA7FG4HoUnkUAAAAAAACSQQBSuR+F6TZRAAAAAAAAPlkBI4XoUrh+WQLgehetRY5ZAUrgehes5lEC4HoXrUXKQQKRwPQrX6Y5A16NwPQp7lUBmZmZmZsKTQGZmZmZmHZdA7FG4HoV6lEBxPQrXo4qQQI/C9Shcu4pAXI/C9Sikj0AfhetRuOaSQOxRuB6FTJBAMzMzMzNniUDsUbgehVOQQKRwPQrXXY5AAAAAAAC6jUAfhetRuByKQFK4HoXrdZJAcT0K16OIk0BxPQrXoyqQQFK4HoXr25JAexSuR+FAkkAK16NwPXqNQFK4HoXrU4tAXI/C9SiCjkDXo3A9ChmRQNejcD0KEpJAcT0K16P0kkB7FK5H4e+SQLgehetR8IxAFK5H4XpSjUC4HoXrUQiRQDMzMzMz0pJAj8L1KFw+kkCPwvUoXASSQI/C9ShcoJJASOF6FK75jECkcD0K1/OMQB+F61G4Z5BA7FG4HoXGkED2KFyPws+RQArXo3A9K5FArkfhehRIkkC4HoXrUYCMQEjhehSugYtAZmZmZmabkECF61G4Hm+MQArXo3A9spFAhetRuB5ikkDNzMzMzFeRQNejcD0KapBASOF6FK4OkUBI4XoUrlyQQJqZmZmZxZFAcT0K16Mpk0BI4XoUrl+QQBSuR+F65pBAmpmZmZnHjEDhehSuRzuOQGZmZmZmm5FAw/UoXI/OkUApXI/C9SKRQD0K16NwJZJA16NwPQqAkUDD9Shcj86PQB+F61G43I1ACtejcD0qk0CF61G4HhWRQPYoXI/C2pJAw/UoXI/ikEBI4XoUrqOSQAAAAAAAkIlAZmZmZmauiUCuR+F6FJ2TQHE9Cteje5FAcT0K16MCk0BSuB6F6yKTQEjhehSuj5FA9ihcj8K7iUAfhetRuJyOQOF6FK5H9ZBA4XoUrkfnkkDsUbgehW2SQPYoXI/CGpFAhetRuB6gkUA9CtejcDeNQHE9Ctejyo1ACtejcD2YkUCamZmZmUiRQFK4HoXrP5RAFK5H4XrJkUCF61G4HjOSQNejcD0Kg4xAFK5H4Xq+jEDNzMzMzMSRQArXo3A9mJFArkfhehRxkkAzMzMzMxaTQMP1KFyP45JAzczMzMwyjkBcj8L1KJ6LQClcj8L1/pBAAAAAAACpkkDhehSuR3eSQClcj8L175JAXI/C9ShtkUAfhetRuDaNQClcj8L15IpAAAAAAAB6kkAAAAAAAKOTQHsUrkfhKpFAmpmZmZlCkkDhehSuR36RQDMzMzMzi4tASOF6FK79jkAAAAAAANeSQFyPwvUo1pFAj8L1KFzwkkCF61G4HimQQJqZmZmZtJFAhetRuB5hjEAfhetRuGCNQArXo3A9G5FAmpmZmZldiUBxPQrXo2eRQBSuR+F6JpFASOF6FK7skUCF61G4HqmKQM3MzMzMS5BAhetRuB42kUA9CtejcGGQQOF6FK5HGZNAuB6F61EWk0CkcD0K16WRQD0K16NwY4pAFK5H4XogjUDhehSuR8yQQK5H4XoUkZNAexSuR+HVkUCPwvUoXEaRQM3MzMzM45FAzczMzMwQjUDD9ShcjxSQQI/C9Shcu5BAMzMzMzPCkUDD9Shcj2eRQMP1KFyPkpNA7FG4HoXQkkCamZmZmWWLQClcj8L1Co1AAAAAAAA8k0DNzMzMzPyQQI/C9Shcg5NA16NwPQpGkkBcj8L1KCqLQLgehetRGI1AexSuR+F8jECF61G4HseSQIXrUbgeMJFAMzMzMzP+kkCkcD0K10KSQGZmZmZmApBAcT0K16Mmi0DsUbgehTGJQOF6FK5HcJFApHA9CteMkEDD9Shcj1eRQGZmZmZmz5FAZmZmZmaTkUBSuB6F62WKQHE9CtejjotAAAAAAADLkkDD9Shcj8aTQEjhehSuKZJAUrgehevakUC4HoXrUTWSQOF6FK5HgY9AH4XrUbgvkEBcj8L1KKuSQNejcD0KiZJAuB6F61EzkUCkcD0K14aRQD0K16NwNpFACtejcD3ajUDNzMzMzBCNQFK4HoXrJpJASOF6FK6OkUCamZmZmaOOQK5H4XoUuJJA16NwPQozlkCamZmZma2RQBSuR+F6CIxAUrgehesmlkCPwvUoXKqVQK5H4XoUWZZASOF6FK5gk0BmZmZmZqyUQDMzMzMzJJFAFK5H4XoakkBcj8L1KKuSQEjhehSuYJZACtejcD0+lUC4HoXrUaiTQFK4HoXrz5RAexSuR+EykEDNzMzMzCaRQHE9CtejMpRAuB6F61EslkB7FK5H4VaRQKRwPQrXHpRA9ihcj8LdlUBcj8L1KNWQQHE9Ctejdo5AAAAAAACQlECPwvUoXByVQAAAAAAA6ZRApHA9Ctftk0DsUbgehaaVQJqZmZmZBJFApHA9Ctd7jkCF61G4HqyUQFK4HoXrgJRA9ihcj8KXlUBcj8L1KDmUQLgehetR65RAzczMzMxwjUD2KFyPwmSRQFK4HoXr55NAMzMzMzNgk0CkcD0K182TQD0K16Nw45RAmpmZmZnik0CamZmZmTuPQM3MzMzMM5JA9ihcj8IglUAzMzMzM/KUQPYoXI/CC5RAFK5H4Xp9lkA9CtejcC6VQAAAAAAAyJBASOF6FK4ukUCamZmZmb2UQOF6FK5HlJVArkfhehSClUDXo3A9CmGWQEjhehSuFZVApHA9Ctd/jkAK16NwPWaPQEjhehSup5RAj8L1KFwBlEB7FK5H4byTQDMzMzMzJpRAH4XrUbhMlUAzMzMzMwGQQD0K16NwbpFAUrgehevblkBmZmZmZhGWQJqZmZmZ2ZRA9ihcj8IdlUAK16NwPeCUQJqZmZmZ1JJAMzMzMzNnj0AAAAAAAFSVQPYoXI/CzJRAUrgeheuak0B7FK5H4eCVQB+F61G4FJRAZmZmZmYmkECamZmZmc2OQDMzMzMzf5RAexSuR+G7lECPwvUoXDSWQBSuR+F65ZRACtejcD3QlEBxPQrXo1WSQClcj8L1yZBAuB6F61F/lkCuR+F6FKuVQKRwPQrXoZRAH4XrUbi8kUD2KFyPwiyUQArXo3A9WJBAcT0K16ObkEDXo3A9CgSUQKRwPQrXd5RA",
          "dtype": "f8"
         },
         "y0": " ",
         "yaxis": "y"
        },
        {
         "alignmentgroup": "True",
         "hovertemplate": "ZoneID=%{x}<br>EnergyConsumption=%{y}<extra></extra>",
         "legendgroup": "ZONE_004",
         "marker": {
          "color": "#ab63fa"
         },
         "name": "ZONE_004",
         "notched": false,
         "offsetgroup": "ZONE_004",
         "orientation": "v",
         "showlegend": true,
         "type": "box",
         "x": [
          "ZONE_004",
          "ZONE_004",
          "ZONE_004",
          "ZONE_004",
          "ZONE_004",
          "ZONE_004",
          "ZONE_004",
          "ZONE_004",
          "ZONE_004",
          "ZONE_004",
          "ZONE_004",
          "ZONE_004",
          "ZONE_004",
          "ZONE_004",
          "ZONE_004",
          "ZONE_004",
          "ZONE_004",
          "ZONE_004",
          "ZONE_004",
          "ZONE_004",
          "ZONE_004",
          "ZONE_004",
          "ZONE_004",
          "ZONE_004",
          "ZONE_004",
          "ZONE_004",
          "ZONE_004",
          "ZONE_004",
          "ZONE_004",
          "ZONE_004",
          "ZONE_004",
          "ZONE_004",
          "ZONE_004",
          "ZONE_004",
          "ZONE_004",
          "ZONE_004",
          "ZONE_004",
          "ZONE_004",
          "ZONE_004",
          "ZONE_004",
          "ZONE_004",
          "ZONE_004",
          "ZONE_004",
          "ZONE_004",
          "ZONE_004",
          "ZONE_004",
          "ZONE_004",
          "ZONE_004",
          "ZONE_004",
          "ZONE_004",
          "ZONE_004",
          "ZONE_004",
          "ZONE_004",
          "ZONE_004",
          "ZONE_004",
          "ZONE_004",
          "ZONE_004",
          "ZONE_004",
          "ZONE_004",
          "ZONE_004",
          "ZONE_004",
          "ZONE_004",
          "ZONE_004",
          "ZONE_004",
          "ZONE_004",
          "ZONE_004",
          "ZONE_004",
          "ZONE_004",
          "ZONE_004",
          "ZONE_004",
          "ZONE_004",
          "ZONE_004",
          "ZONE_004",
          "ZONE_004",
          "ZONE_004",
          "ZONE_004",
          "ZONE_004",
          "ZONE_004",
          "ZONE_004",
          "ZONE_004",
          "ZONE_004",
          "ZONE_004",
          "ZONE_004",
          "ZONE_004",
          "ZONE_004",
          "ZONE_004",
          "ZONE_004",
          "ZONE_004",
          "ZONE_004",
          "ZONE_004",
          "ZONE_004",
          "ZONE_004",
          "ZONE_004",
          "ZONE_004",
          "ZONE_004",
          "ZONE_004",
          "ZONE_004",
          "ZONE_004",
          "ZONE_004",
          "ZONE_004",
          "ZONE_004",
          "ZONE_004",
          "ZONE_004",
          "ZONE_004",
          "ZONE_004",
          "ZONE_004",
          "ZONE_004",
          "ZONE_004",
          "ZONE_004",
          "ZONE_004",
          "ZONE_004",
          "ZONE_004",
          "ZONE_004",
          "ZONE_004",
          "ZONE_004",
          "ZONE_004",
          "ZONE_004",
          "ZONE_004",
          "ZONE_004",
          "ZONE_004",
          "ZONE_004",
          "ZONE_004",
          "ZONE_004",
          "ZONE_004",
          "ZONE_004",
          "ZONE_004",
          "ZONE_004",
          "ZONE_004",
          "ZONE_004",
          "ZONE_004",
          "ZONE_004",
          "ZONE_004",
          "ZONE_004",
          "ZONE_004",
          "ZONE_004",
          "ZONE_004",
          "ZONE_004",
          "ZONE_004",
          "ZONE_004",
          "ZONE_004",
          "ZONE_004",
          "ZONE_004",
          "ZONE_004",
          "ZONE_004",
          "ZONE_004",
          "ZONE_004",
          "ZONE_004",
          "ZONE_004",
          "ZONE_004",
          "ZONE_004",
          "ZONE_004",
          "ZONE_004",
          "ZONE_004",
          "ZONE_004",
          "ZONE_004",
          "ZONE_004",
          "ZONE_004",
          "ZONE_004",
          "ZONE_004",
          "ZONE_004",
          "ZONE_004",
          "ZONE_004",
          "ZONE_004",
          "ZONE_004",
          "ZONE_004",
          "ZONE_004",
          "ZONE_004",
          "ZONE_004",
          "ZONE_004",
          "ZONE_004",
          "ZONE_004",
          "ZONE_004",
          "ZONE_004",
          "ZONE_004",
          "ZONE_004",
          "ZONE_004",
          "ZONE_004",
          "ZONE_004",
          "ZONE_004",
          "ZONE_004",
          "ZONE_004",
          "ZONE_004",
          "ZONE_004",
          "ZONE_004",
          "ZONE_004",
          "ZONE_004",
          "ZONE_004",
          "ZONE_004",
          "ZONE_004",
          "ZONE_004",
          "ZONE_004",
          "ZONE_004",
          "ZONE_004",
          "ZONE_004",
          "ZONE_004",
          "ZONE_004",
          "ZONE_004",
          "ZONE_004",
          "ZONE_004",
          "ZONE_004",
          "ZONE_004",
          "ZONE_004",
          "ZONE_004",
          "ZONE_004",
          "ZONE_004",
          "ZONE_004",
          "ZONE_004",
          "ZONE_004",
          "ZONE_004",
          "ZONE_004",
          "ZONE_004",
          "ZONE_004",
          "ZONE_004",
          "ZONE_004",
          "ZONE_004",
          "ZONE_004",
          "ZONE_004",
          "ZONE_004",
          "ZONE_004",
          "ZONE_004",
          "ZONE_004",
          "ZONE_004",
          "ZONE_004",
          "ZONE_004",
          "ZONE_004",
          "ZONE_004",
          "ZONE_004",
          "ZONE_004",
          "ZONE_004",
          "ZONE_004",
          "ZONE_004",
          "ZONE_004",
          "ZONE_004",
          "ZONE_004",
          "ZONE_004",
          "ZONE_004",
          "ZONE_004",
          "ZONE_004",
          "ZONE_004",
          "ZONE_004",
          "ZONE_004",
          "ZONE_004",
          "ZONE_004",
          "ZONE_004",
          "ZONE_004",
          "ZONE_004",
          "ZONE_004",
          "ZONE_004",
          "ZONE_004",
          "ZONE_004",
          "ZONE_004",
          "ZONE_004",
          "ZONE_004",
          "ZONE_004",
          "ZONE_004",
          "ZONE_004",
          "ZONE_004",
          "ZONE_004",
          "ZONE_004",
          "ZONE_004",
          "ZONE_004",
          "ZONE_004",
          "ZONE_004",
          "ZONE_004",
          "ZONE_004",
          "ZONE_004",
          "ZONE_004",
          "ZONE_004",
          "ZONE_004",
          "ZONE_004",
          "ZONE_004",
          "ZONE_004",
          "ZONE_004",
          "ZONE_004",
          "ZONE_004",
          "ZONE_004",
          "ZONE_004",
          "ZONE_004",
          "ZONE_004",
          "ZONE_004",
          "ZONE_004",
          "ZONE_004",
          "ZONE_004",
          "ZONE_004",
          "ZONE_004",
          "ZONE_004",
          "ZONE_004",
          "ZONE_004",
          "ZONE_004",
          "ZONE_004",
          "ZONE_004",
          "ZONE_004",
          "ZONE_004",
          "ZONE_004",
          "ZONE_004",
          "ZONE_004",
          "ZONE_004",
          "ZONE_004",
          "ZONE_004",
          "ZONE_004",
          "ZONE_004",
          "ZONE_004",
          "ZONE_004",
          "ZONE_004",
          "ZONE_004",
          "ZONE_004",
          "ZONE_004",
          "ZONE_004",
          "ZONE_004",
          "ZONE_004",
          "ZONE_004",
          "ZONE_004",
          "ZONE_004",
          "ZONE_004",
          "ZONE_004",
          "ZONE_004",
          "ZONE_004",
          "ZONE_004",
          "ZONE_004",
          "ZONE_004",
          "ZONE_004",
          "ZONE_004",
          "ZONE_004",
          "ZONE_004",
          "ZONE_004",
          "ZONE_004",
          "ZONE_004",
          "ZONE_004",
          "ZONE_004",
          "ZONE_004",
          "ZONE_004",
          "ZONE_004",
          "ZONE_004",
          "ZONE_004",
          "ZONE_004",
          "ZONE_004",
          "ZONE_004",
          "ZONE_004",
          "ZONE_004",
          "ZONE_004",
          "ZONE_004",
          "ZONE_004",
          "ZONE_004",
          "ZONE_004",
          "ZONE_004",
          "ZONE_004",
          "ZONE_004",
          "ZONE_004",
          "ZONE_004",
          "ZONE_004",
          "ZONE_004",
          "ZONE_004",
          "ZONE_004",
          "ZONE_004",
          "ZONE_004",
          "ZONE_004",
          "ZONE_004",
          "ZONE_004",
          "ZONE_004",
          "ZONE_004",
          "ZONE_004",
          "ZONE_004",
          "ZONE_004",
          "ZONE_004",
          "ZONE_004",
          "ZONE_004"
         ],
         "x0": " ",
         "xaxis": "x",
         "y": {
          "bdata": "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",
          "dtype": "f8"
         },
         "y0": " ",
         "yaxis": "y"
        },
        {
         "alignmentgroup": "True",
         "hovertemplate": "ZoneID=%{x}<br>EnergyConsumption=%{y}<extra></extra>",
         "legendgroup": "ZONE_005",
         "marker": {
          "color": "#FFA15A"
         },
         "name": "ZONE_005",
         "notched": false,
         "offsetgroup": "ZONE_005",
         "orientation": "v",
         "showlegend": true,
         "type": "box",
         "x": [
          "ZONE_005",
          "ZONE_005",
          "ZONE_005",
          "ZONE_005",
          "ZONE_005",
          "ZONE_005",
          "ZONE_005",
          "ZONE_005",
          "ZONE_005",
          "ZONE_005",
          "ZONE_005",
          "ZONE_005",
          "ZONE_005",
          "ZONE_005",
          "ZONE_005",
          "ZONE_005",
          "ZONE_005",
          "ZONE_005",
          "ZONE_005",
          "ZONE_005",
          "ZONE_005",
          "ZONE_005",
          "ZONE_005",
          "ZONE_005",
          "ZONE_005",
          "ZONE_005",
          "ZONE_005",
          "ZONE_005",
          "ZONE_005",
          "ZONE_005",
          "ZONE_005",
          "ZONE_005",
          "ZONE_005",
          "ZONE_005",
          "ZONE_005",
          "ZONE_005",
          "ZONE_005",
          "ZONE_005",
          "ZONE_005",
          "ZONE_005",
          "ZONE_005",
          "ZONE_005",
          "ZONE_005",
          "ZONE_005",
          "ZONE_005",
          "ZONE_005",
          "ZONE_005",
          "ZONE_005",
          "ZONE_005",
          "ZONE_005",
          "ZONE_005",
          "ZONE_005",
          "ZONE_005",
          "ZONE_005",
          "ZONE_005",
          "ZONE_005",
          "ZONE_005",
          "ZONE_005",
          "ZONE_005",
          "ZONE_005",
          "ZONE_005",
          "ZONE_005",
          "ZONE_005",
          "ZONE_005",
          "ZONE_005",
          "ZONE_005",
          "ZONE_005",
          "ZONE_005",
          "ZONE_005",
          "ZONE_005",
          "ZONE_005",
          "ZONE_005",
          "ZONE_005",
          "ZONE_005",
          "ZONE_005",
          "ZONE_005",
          "ZONE_005",
          "ZONE_005",
          "ZONE_005",
          "ZONE_005",
          "ZONE_005",
          "ZONE_005",
          "ZONE_005",
          "ZONE_005",
          "ZONE_005",
          "ZONE_005",
          "ZONE_005",
          "ZONE_005",
          "ZONE_005",
          "ZONE_005",
          "ZONE_005",
          "ZONE_005",
          "ZONE_005",
          "ZONE_005",
          "ZONE_005",
          "ZONE_005",
          "ZONE_005",
          "ZONE_005",
          "ZONE_005",
          "ZONE_005",
          "ZONE_005",
          "ZONE_005",
          "ZONE_005",
          "ZONE_005",
          "ZONE_005",
          "ZONE_005",
          "ZONE_005",
          "ZONE_005",
          "ZONE_005",
          "ZONE_005",
          "ZONE_005",
          "ZONE_005",
          "ZONE_005",
          "ZONE_005",
          "ZONE_005",
          "ZONE_005",
          "ZONE_005",
          "ZONE_005",
          "ZONE_005",
          "ZONE_005",
          "ZONE_005",
          "ZONE_005",
          "ZONE_005",
          "ZONE_005",
          "ZONE_005",
          "ZONE_005",
          "ZONE_005",
          "ZONE_005",
          "ZONE_005",
          "ZONE_005",
          "ZONE_005",
          "ZONE_005",
          "ZONE_005",
          "ZONE_005",
          "ZONE_005",
          "ZONE_005",
          "ZONE_005",
          "ZONE_005",
          "ZONE_005",
          "ZONE_005",
          "ZONE_005",
          "ZONE_005",
          "ZONE_005",
          "ZONE_005",
          "ZONE_005",
          "ZONE_005",
          "ZONE_005",
          "ZONE_005",
          "ZONE_005",
          "ZONE_005",
          "ZONE_005",
          "ZONE_005",
          "ZONE_005",
          "ZONE_005",
          "ZONE_005",
          "ZONE_005",
          "ZONE_005",
          "ZONE_005",
          "ZONE_005",
          "ZONE_005",
          "ZONE_005",
          "ZONE_005",
          "ZONE_005",
          "ZONE_005",
          "ZONE_005",
          "ZONE_005",
          "ZONE_005",
          "ZONE_005",
          "ZONE_005",
          "ZONE_005",
          "ZONE_005",
          "ZONE_005",
          "ZONE_005",
          "ZONE_005",
          "ZONE_005",
          "ZONE_005",
          "ZONE_005",
          "ZONE_005",
          "ZONE_005",
          "ZONE_005",
          "ZONE_005",
          "ZONE_005",
          "ZONE_005",
          "ZONE_005",
          "ZONE_005",
          "ZONE_005",
          "ZONE_005",
          "ZONE_005",
          "ZONE_005",
          "ZONE_005",
          "ZONE_005",
          "ZONE_005",
          "ZONE_005",
          "ZONE_005",
          "ZONE_005",
          "ZONE_005",
          "ZONE_005",
          "ZONE_005",
          "ZONE_005",
          "ZONE_005",
          "ZONE_005",
          "ZONE_005",
          "ZONE_005",
          "ZONE_005",
          "ZONE_005",
          "ZONE_005",
          "ZONE_005",
          "ZONE_005",
          "ZONE_005",
          "ZONE_005",
          "ZONE_005",
          "ZONE_005",
          "ZONE_005",
          "ZONE_005",
          "ZONE_005",
          "ZONE_005",
          "ZONE_005",
          "ZONE_005",
          "ZONE_005",
          "ZONE_005",
          "ZONE_005",
          "ZONE_005",
          "ZONE_005",
          "ZONE_005",
          "ZONE_005",
          "ZONE_005",
          "ZONE_005",
          "ZONE_005",
          "ZONE_005",
          "ZONE_005",
          "ZONE_005",
          "ZONE_005",
          "ZONE_005",
          "ZONE_005",
          "ZONE_005",
          "ZONE_005",
          "ZONE_005",
          "ZONE_005",
          "ZONE_005",
          "ZONE_005",
          "ZONE_005",
          "ZONE_005",
          "ZONE_005",
          "ZONE_005",
          "ZONE_005",
          "ZONE_005",
          "ZONE_005",
          "ZONE_005",
          "ZONE_005",
          "ZONE_005",
          "ZONE_005",
          "ZONE_005",
          "ZONE_005",
          "ZONE_005",
          "ZONE_005",
          "ZONE_005",
          "ZONE_005",
          "ZONE_005",
          "ZONE_005",
          "ZONE_005",
          "ZONE_005",
          "ZONE_005",
          "ZONE_005",
          "ZONE_005",
          "ZONE_005",
          "ZONE_005",
          "ZONE_005",
          "ZONE_005",
          "ZONE_005",
          "ZONE_005",
          "ZONE_005",
          "ZONE_005",
          "ZONE_005",
          "ZONE_005",
          "ZONE_005",
          "ZONE_005",
          "ZONE_005",
          "ZONE_005",
          "ZONE_005",
          "ZONE_005",
          "ZONE_005",
          "ZONE_005",
          "ZONE_005",
          "ZONE_005",
          "ZONE_005",
          "ZONE_005",
          "ZONE_005",
          "ZONE_005",
          "ZONE_005",
          "ZONE_005",
          "ZONE_005",
          "ZONE_005",
          "ZONE_005",
          "ZONE_005",
          "ZONE_005",
          "ZONE_005",
          "ZONE_005",
          "ZONE_005",
          "ZONE_005",
          "ZONE_005",
          "ZONE_005",
          "ZONE_005",
          "ZONE_005",
          "ZONE_005",
          "ZONE_005",
          "ZONE_005",
          "ZONE_005",
          "ZONE_005",
          "ZONE_005",
          "ZONE_005",
          "ZONE_005",
          "ZONE_005",
          "ZONE_005",
          "ZONE_005",
          "ZONE_005",
          "ZONE_005",
          "ZONE_005",
          "ZONE_005",
          "ZONE_005",
          "ZONE_005",
          "ZONE_005",
          "ZONE_005",
          "ZONE_005",
          "ZONE_005",
          "ZONE_005",
          "ZONE_005",
          "ZONE_005",
          "ZONE_005",
          "ZONE_005",
          "ZONE_005",
          "ZONE_005",
          "ZONE_005",
          "ZONE_005",
          "ZONE_005",
          "ZONE_005",
          "ZONE_005",
          "ZONE_005",
          "ZONE_005",
          "ZONE_005",
          "ZONE_005",
          "ZONE_005",
          "ZONE_005",
          "ZONE_005",
          "ZONE_005",
          "ZONE_005",
          "ZONE_005",
          "ZONE_005",
          "ZONE_005",
          "ZONE_005",
          "ZONE_005",
          "ZONE_005",
          "ZONE_005",
          "ZONE_005",
          "ZONE_005",
          "ZONE_005",
          "ZONE_005",
          "ZONE_005",
          "ZONE_005",
          "ZONE_005",
          "ZONE_005",
          "ZONE_005",
          "ZONE_005",
          "ZONE_005",
          "ZONE_005",
          "ZONE_005",
          "ZONE_005"
         ],
         "x0": " ",
         "xaxis": "x",
         "y": {
          "bdata": "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",
          "dtype": "f8"
         },
         "y0": " ",
         "yaxis": "y"
        }
       ],
       "layout": {
        "boxmode": "overlay",
        "height": 500,
        "legend": {
         "title": {
          "text": "ZoneID"
         },
         "tracegroupgap": 0
        },
        "showlegend": false,
        "template": {
         "data": {
          "bar": [
           {
            "error_x": {
             "color": "#2a3f5f"
            },
            "error_y": {
             "color": "#2a3f5f"
            },
            "marker": {
             "line": {
              "color": "#E5ECF6",
              "width": 0.5
             },
             "pattern": {
              "fillmode": "overlay",
              "size": 10,
              "solidity": 0.2
             }
            },
            "type": "bar"
           }
          ],
          "barpolar": [
           {
            "marker": {
             "line": {
              "color": "#E5ECF6",
              "width": 0.5
             },
             "pattern": {
              "fillmode": "overlay",
              "size": 10,
              "solidity": 0.2
             }
            },
            "type": "barpolar"
           }
          ],
          "carpet": [
           {
            "aaxis": {
             "endlinecolor": "#2a3f5f",
             "gridcolor": "white",
             "linecolor": "white",
             "minorgridcolor": "white",
             "startlinecolor": "#2a3f5f"
            },
            "baxis": {
             "endlinecolor": "#2a3f5f",
             "gridcolor": "white",
             "linecolor": "white",
             "minorgridcolor": "white",
             "startlinecolor": "#2a3f5f"
            },
            "type": "carpet"
           }
          ],
          "choropleth": [
           {
            "colorbar": {
             "outlinewidth": 0,
             "ticks": ""
            },
            "type": "choropleth"
           }
          ],
          "contour": [
           {
            "colorbar": {
             "outlinewidth": 0,
             "ticks": ""
            },
            "colorscale": [
             [
              0,
              "#0d0887"
             ],
             [
              0.1111111111111111,
              "#46039f"
             ],
             [
              0.2222222222222222,
              "#7201a8"
             ],
             [
              0.3333333333333333,
              "#9c179e"
             ],
             [
              0.4444444444444444,
              "#bd3786"
             ],
             [
              0.5555555555555556,
              "#d8576b"
             ],
             [
              0.6666666666666666,
              "#ed7953"
             ],
             [
              0.7777777777777778,
              "#fb9f3a"
             ],
             [
              0.8888888888888888,
              "#fdca26"
             ],
             [
              1,
              "#f0f921"
             ]
            ],
            "type": "contour"
           }
          ],
          "contourcarpet": [
           {
            "colorbar": {
             "outlinewidth": 0,
             "ticks": ""
            },
            "type": "contourcarpet"
           }
          ],
          "heatmap": [
           {
            "colorbar": {
             "outlinewidth": 0,
             "ticks": ""
            },
            "colorscale": [
             [
              0,
              "#0d0887"
             ],
             [
              0.1111111111111111,
              "#46039f"
             ],
             [
              0.2222222222222222,
              "#7201a8"
             ],
             [
              0.3333333333333333,
              "#9c179e"
             ],
             [
              0.4444444444444444,
              "#bd3786"
             ],
             [
              0.5555555555555556,
              "#d8576b"
             ],
             [
              0.6666666666666666,
              "#ed7953"
             ],
             [
              0.7777777777777778,
              "#fb9f3a"
             ],
             [
              0.8888888888888888,
              "#fdca26"
             ],
             [
              1,
              "#f0f921"
             ]
            ],
            "type": "heatmap"
           }
          ],
          "histogram": [
           {
            "marker": {
             "pattern": {
              "fillmode": "overlay",
              "size": 10,
              "solidity": 0.2
             }
            },
            "type": "histogram"
           }
          ],
          "histogram2d": [
           {
            "colorbar": {
             "outlinewidth": 0,
             "ticks": ""
            },
            "colorscale": [
             [
              0,
              "#0d0887"
             ],
             [
              0.1111111111111111,
              "#46039f"
             ],
             [
              0.2222222222222222,
              "#7201a8"
             ],
             [
              0.3333333333333333,
              "#9c179e"
             ],
             [
              0.4444444444444444,
              "#bd3786"
             ],
             [
              0.5555555555555556,
              "#d8576b"
             ],
             [
              0.6666666666666666,
              "#ed7953"
             ],
             [
              0.7777777777777778,
              "#fb9f3a"
             ],
             [
              0.8888888888888888,
              "#fdca26"
             ],
             [
              1,
              "#f0f921"
             ]
            ],
            "type": "histogram2d"
           }
          ],
          "histogram2dcontour": [
           {
            "colorbar": {
             "outlinewidth": 0,
             "ticks": ""
            },
            "colorscale": [
             [
              0,
              "#0d0887"
             ],
             [
              0.1111111111111111,
              "#46039f"
             ],
             [
              0.2222222222222222,
              "#7201a8"
             ],
             [
              0.3333333333333333,
              "#9c179e"
             ],
             [
              0.4444444444444444,
              "#bd3786"
             ],
             [
              0.5555555555555556,
              "#d8576b"
             ],
             [
              0.6666666666666666,
              "#ed7953"
             ],
             [
              0.7777777777777778,
              "#fb9f3a"
             ],
             [
              0.8888888888888888,
              "#fdca26"
             ],
             [
              1,
              "#f0f921"
             ]
            ],
            "type": "histogram2dcontour"
           }
          ],
          "mesh3d": [
           {
            "colorbar": {
             "outlinewidth": 0,
             "ticks": ""
            },
            "type": "mesh3d"
           }
          ],
          "parcoords": [
           {
            "line": {
             "colorbar": {
              "outlinewidth": 0,
              "ticks": ""
             }
            },
            "type": "parcoords"
           }
          ],
          "pie": [
           {
            "automargin": true,
            "type": "pie"
           }
          ],
          "scatter": [
           {
            "fillpattern": {
             "fillmode": "overlay",
             "size": 10,
             "solidity": 0.2
            },
            "type": "scatter"
           }
          ],
          "scatter3d": [
           {
            "line": {
             "colorbar": {
              "outlinewidth": 0,
              "ticks": ""
             }
            },
            "marker": {
             "colorbar": {
              "outlinewidth": 0,
              "ticks": ""
             }
            },
            "type": "scatter3d"
           }
          ],
          "scattercarpet": [
           {
            "marker": {
             "colorbar": {
              "outlinewidth": 0,
              "ticks": ""
             }
            },
            "type": "scattercarpet"
           }
          ],
          "scattergeo": [
           {
            "marker": {
             "colorbar": {
              "outlinewidth": 0,
              "ticks": ""
             }
            },
            "type": "scattergeo"
           }
          ],
          "scattergl": [
           {
            "marker": {
             "colorbar": {
              "outlinewidth": 0,
              "ticks": ""
             }
            },
            "type": "scattergl"
           }
          ],
          "scattermap": [
           {
            "marker": {
             "colorbar": {
              "outlinewidth": 0,
              "ticks": ""
             }
            },
            "type": "scattermap"
           }
          ],
          "scattermapbox": [
           {
            "marker": {
             "colorbar": {
              "outlinewidth": 0,
              "ticks": ""
             }
            },
            "type": "scattermapbox"
           }
          ],
          "scatterpolar": [
           {
            "marker": {
             "colorbar": {
              "outlinewidth": 0,
              "ticks": ""
             }
            },
            "type": "scatterpolar"
           }
          ],
          "scatterpolargl": [
           {
            "marker": {
             "colorbar": {
              "outlinewidth": 0,
              "ticks": ""
             }
            },
            "type": "scatterpolargl"
           }
          ],
          "scatterternary": [
           {
            "marker": {
             "colorbar": {
              "outlinewidth": 0,
              "ticks": ""
             }
            },
            "type": "scatterternary"
           }
          ],
          "surface": [
           {
            "colorbar": {
             "outlinewidth": 0,
             "ticks": ""
            },
            "colorscale": [
             [
              0,
              "#0d0887"
             ],
             [
              0.1111111111111111,
              "#46039f"
             ],
             [
              0.2222222222222222,
              "#7201a8"
             ],
             [
              0.3333333333333333,
              "#9c179e"
             ],
             [
              0.4444444444444444,
              "#bd3786"
             ],
             [
              0.5555555555555556,
              "#d8576b"
             ],
             [
              0.6666666666666666,
              "#ed7953"
             ],
             [
              0.7777777777777778,
              "#fb9f3a"
             ],
             [
              0.8888888888888888,
              "#fdca26"
             ],
             [
              1,
              "#f0f921"
             ]
            ],
            "type": "surface"
           }
          ],
          "table": [
           {
            "cells": {
             "fill": {
              "color": "#EBF0F8"
             },
             "line": {
              "color": "white"
             }
            },
            "header": {
             "fill": {
              "color": "#C8D4E3"
             },
             "line": {
              "color": "white"
             }
            },
            "type": "table"
           }
          ]
         },
         "layout": {
          "annotationdefaults": {
           "arrowcolor": "#2a3f5f",
           "arrowhead": 0,
           "arrowwidth": 1
          },
          "autotypenumbers": "strict",
          "coloraxis": {
           "colorbar": {
            "outlinewidth": 0,
            "ticks": ""
           }
          },
          "colorscale": {
           "diverging": [
            [
             0,
             "#8e0152"
            ],
            [
             0.1,
             "#c51b7d"
            ],
            [
             0.2,
             "#de77ae"
            ],
            [
             0.3,
             "#f1b6da"
            ],
            [
             0.4,
             "#fde0ef"
            ],
            [
             0.5,
             "#f7f7f7"
            ],
            [
             0.6,
             "#e6f5d0"
            ],
            [
             0.7,
             "#b8e186"
            ],
            [
             0.8,
             "#7fbc41"
            ],
            [
             0.9,
             "#4d9221"
            ],
            [
             1,
             "#276419"
            ]
           ],
           "sequential": [
            [
             0,
             "#0d0887"
            ],
            [
             0.1111111111111111,
             "#46039f"
            ],
            [
             0.2222222222222222,
             "#7201a8"
            ],
            [
             0.3333333333333333,
             "#9c179e"
            ],
            [
             0.4444444444444444,
             "#bd3786"
            ],
            [
             0.5555555555555556,
             "#d8576b"
            ],
            [
             0.6666666666666666,
             "#ed7953"
            ],
            [
             0.7777777777777778,
             "#fb9f3a"
            ],
            [
             0.8888888888888888,
             "#fdca26"
            ],
            [
             1,
             "#f0f921"
            ]
           ],
           "sequentialminus": [
            [
             0,
             "#0d0887"
            ],
            [
             0.1111111111111111,
             "#46039f"
            ],
            [
             0.2222222222222222,
             "#7201a8"
            ],
            [
             0.3333333333333333,
             "#9c179e"
            ],
            [
             0.4444444444444444,
             "#bd3786"
            ],
            [
             0.5555555555555556,
             "#d8576b"
            ],
            [
             0.6666666666666666,
             "#ed7953"
            ],
            [
             0.7777777777777778,
             "#fb9f3a"
            ],
            [
             0.8888888888888888,
             "#fdca26"
            ],
            [
             1,
             "#f0f921"
            ]
           ]
          },
          "colorway": [
           "#636efa",
           "#EF553B",
           "#00cc96",
           "#ab63fa",
           "#FFA15A",
           "#19d3f3",
           "#FF6692",
           "#B6E880",
           "#FF97FF",
           "#FECB52"
          ],
          "font": {
           "color": "#2a3f5f"
          },
          "geo": {
           "bgcolor": "white",
           "lakecolor": "white",
           "landcolor": "#E5ECF6",
           "showlakes": true,
           "showland": true,
           "subunitcolor": "white"
          },
          "hoverlabel": {
           "align": "left"
          },
          "hovermode": "closest",
          "mapbox": {
           "style": "light"
          },
          "paper_bgcolor": "white",
          "plot_bgcolor": "#E5ECF6",
          "polar": {
           "angularaxis": {
            "gridcolor": "white",
            "linecolor": "white",
            "ticks": ""
           },
           "bgcolor": "#E5ECF6",
           "radialaxis": {
            "gridcolor": "white",
            "linecolor": "white",
            "ticks": ""
           }
          },
          "scene": {
           "xaxis": {
            "backgroundcolor": "#E5ECF6",
            "gridcolor": "white",
            "gridwidth": 2,
            "linecolor": "white",
            "showbackground": true,
            "ticks": "",
            "zerolinecolor": "white"
           },
           "yaxis": {
            "backgroundcolor": "#E5ECF6",
            "gridcolor": "white",
            "gridwidth": 2,
            "linecolor": "white",
            "showbackground": true,
            "ticks": "",
            "zerolinecolor": "white"
           },
           "zaxis": {
            "backgroundcolor": "#E5ECF6",
            "gridcolor": "white",
            "gridwidth": 2,
            "linecolor": "white",
            "showbackground": true,
            "ticks": "",
            "zerolinecolor": "white"
           }
          },
          "shapedefaults": {
           "line": {
            "color": "#2a3f5f"
           }
          },
          "ternary": {
           "aaxis": {
            "gridcolor": "white",
            "linecolor": "white",
            "ticks": ""
           },
           "baxis": {
            "gridcolor": "white",
            "linecolor": "white",
            "ticks": ""
           },
           "bgcolor": "#E5ECF6",
           "caxis": {
            "gridcolor": "white",
            "linecolor": "white",
            "ticks": ""
           }
          },
          "title": {
           "x": 0.05
          },
          "xaxis": {
           "automargin": true,
           "gridcolor": "white",
           "linecolor": "white",
           "ticks": "",
           "title": {
            "standoff": 15
           },
           "zerolinecolor": "white",
           "zerolinewidth": 2
          },
          "yaxis": {
           "automargin": true,
           "gridcolor": "white",
           "linecolor": "white",
           "ticks": "",
           "title": {
            "standoff": 15
           },
           "zerolinecolor": "white",
           "zerolinewidth": 2
          }
         }
        },
        "title": {
         "text": "Energy Consumption Distribution by Zone"
        },
        "xaxis": {
         "anchor": "y",
         "categoryarray": [
          "ZONE_001",
          "ZONE_002",
          "ZONE_003",
          "ZONE_004",
          "ZONE_005"
         ],
         "categoryorder": "array",
         "domain": [
          0,
          1
         ],
         "title": {
          "text": "ZoneID"
         }
        },
        "yaxis": {
         "anchor": "x",
         "domain": [
          0,
          1
         ],
         "title": {
          "text": "EnergyConsumption"
         }
        }
       }
      }
     },
     "metadata": {},
     "output_type": "display_data"
    },
    {
     "name": "stdout",
     "output_type": "stream",
     "text": [
      "✅ Interactive visualizations created successfully!\n",
      "\n",
      "🤖 Building and Evaluating ML Models...\n",
      "\n",
      "🔧 Training Linear Regression...\n",
      "📊 Linear Regression Results:\n",
      "   Mean Absolute Error: 72.05 kWh\n",
      "   R² Score: 0.8992\n",
      "\n",
      "🔧 Training Random Forest...\n",
      "📊 Random Forest Results:\n",
      "   Mean Absolute Error: 35.08 kWh\n",
      "   R² Score: 0.9725\n",
      "\n",
      "🎯 Random Forest Feature Importance:\n",
      "   Zone_ZONE_003: 0.4339\n",
      "   Zone_ZONE_005: 0.2925\n",
      "   Zone_ZONE_002: 0.1268\n",
      "   SpecialEvent: 0.0696\n",
      "   AvgTemperature: 0.0559\n",
      "   Humidity: 0.0071\n",
      "   Month: 0.0054\n",
      "   Zone_ZONE_001: 0.0031\n",
      "   Zone_ZONE_004: 0.0029\n",
      "   DayOfWeek: 0.0029\n"
     ]
    },
    {
     "data": {
      "image/png": "[encoded data removed]",
      "text/plain": [
       "<Figure size 1500x500 with 2 Axes>"
      ]
     },
     "metadata": {},
     "output_type": "display_data"
    },
    {
     "name": "stdout",
     "output_type": "stream",
     "text": [
      "\n",
      "📋 SYSTEM SUMMARY & INSIGHTS\n",
      "============================================================\n",
      "\n",
      "📊 Dataset Statistics:\n",
      "   • Total Records: 1,830\n",
      "   • Date Range: 2024-01-01 to 2024-12-31\n",
      "   • Number of Zones: 5\n",
      "   • Average Daily Consumption: 781.02 kWh\n",
      "   • Peak Consumption: 1542.35 kWh\n",
      "   • Special Event Days: 595 (32.5%)\n",
      "\n",
      "🎯 Key Insights:\n",
      "   • Temperature-Consumption Correlation: -0.198\n",
      "   • Highest Consuming Zone: ZONE_003 (1167.58 kWh avg)\n",
      "   • Lowest Consuming Zone: ZONE_001 (447.62 kWh avg)\n",
      "   • Peak Consumption Season: Winter (853.80 kWh avg)\n",
      "   • Special Event Impact: -3.7% consumption change\n",
      "\n",
      "🤖 Model Performance:\n",
      "   • Linear Regression:\n",
      "     - Mean Absolute Error: 72.05 kWh\n",
      "     - R² Score: 0.8992 (89.9% variance explained)\n",
      "   • Random Forest:\n",
      "     - Mean Absolute Error: 35.08 kWh\n",
      "     - R² Score: 0.9725 (97.3% variance explained)\n",
      "   • Best Performing Model: Random Forest (MAE: 35.08 kWh)\n",
      "\n",
      "💡 Recommendations:\n",
      "   • Monitor ZONE_003 closely as it shows highest consumption\n",
      "   • Plan for increased demand during Winter season\n",
      "   • Consider load balancing during special events\n",
      "   • Use Random Forest model for most accurate predictions\n",
      "\n",
      "🎬 Demo Predictions\n",
      "==============================\n",
      "\n",
      "🎯 Scenario: Normal summer day\n",
      "   Zone: ZONE_001, Temp: 25°C, Humidity: 65%, Event: No\n",
      "   Predicted Consumption: 414.07 kWh\n",
      "\n",
      "🎯 Scenario: Cold winter day with event\n",
      "   Zone: ZONE_002, Temp: 5°C, Humidity: 80%, Event: Yes\n",
      "   Predicted Consumption: 871.63 kWh\n",
      "\n",
      "🎯 Scenario: Hot day, no event\n",
      "   Zone: ZONE_003, Temp: 30°C, Humidity: 45%, Event: No\n",
      "   Predicted Consumption: 1143.04 kWh\n",
      "\n",
      "🎯 Scenario: Mild day with special event\n",
      "   Zone: ZONE_004, Temp: 15°C, Humidity: 70%, Event: Yes\n",
      "   Predicted Consumption: 459.18 kWh\n",
      "\n",
      "🎯 Scenario: Pleasant spring day\n",
      "   Zone: ZONE_005, Temp: 20°C, Humidity: 55%, Event: No\n",
      "   Predicted Consumption: 938.74 kWh\n",
      "\n",
      "🚀 System Ready!\n",
      "To use the interactive prediction interface, call:\n",
      "prediction_system.run_interactive_session()\n"
     ]
    }
   ],
   "source": [
    "# City Energy Consumption Analysis & Prediction System\n",
    "# A comprehensive system for analyzing and predicting daily electricity usage patterns\n",
    "\n",
    "import pandas as pd\n",
    "import numpy as np\n",
    "import matplotlib.pyplot as plt\n",
    "import seaborn as sns\n",
    "import plotly.express as px\n",
    "import plotly.graph_objects as go\n",
    "from plotly.subplots import make_subplots\n",
    "from sklearn.model_selection import train_test_split\n",
    "from sklearn.linear_model import LinearRegression\n",
    "from sklearn.ensemble import RandomForestRegressor\n",
    "from sklearn.metrics import mean_absolute_error, r2_score\n",
    "from sklearn.preprocessing import StandardScaler\n",
    "import warnings\n",
    "warnings.filterwarnings('ignore')\n",
    "\n",
    "# Set style for matplotlib\n",
    "plt.style.use('seaborn-v0_8')\n",
    "sns.set_palette(\"husl\")\n",
    "\n",
    "print(\"🏙️ City Energy Consumption Analysis & Prediction System\")\n",
    "print(\"=\" * 60)\n",
    "\n",
    "# =============================================================================\n",
    "# 1. DATA GENERATION\n",
    "# =============================================================================\n",
    "\n",
    "def generate_synthetic_dataset():\n",
    "    \"\"\"\n",
    "    Generate realistic synthetic energy consumption data for 5 city zones over 1 year.\n",
    "    \n",
    "    Returns:\n",
    "        pd.DataFrame: Dataset with Date, ZoneID, AvgTemperature, Humidity, \n",
    "                     SpecialEvent, and EnergyConsumption columns\n",
    "    \"\"\"\n",
    "    print(\"\\n📊 Generating Synthetic Dataset...\")\n",
    "    \n",
    "    # Date range for 1 year\n",
    "    start_date = '2024-01-01'\n",
    "    end_date = '2024-12-31'\n",
    "    dates = pd.date_range(start=start_date, end=end_date, freq='D')\n",
    "    \n",
    "    # Zone definitions with different characteristics\n",
    "    zones = {\n",
    "        'ZONE_001': {'type': 'Residential', 'base_consumption': 450, 'temp_sensitivity': 15},\n",
    "        'ZONE_002': {'type': 'Commercial', 'base_consumption': 680, 'temp_sensitivity': 25},\n",
    "        'ZONE_003': {'type': 'Industrial', 'base_consumption': 1200, 'temp_sensitivity': 10},\n",
    "        'ZONE_004': {'type': 'Mixed', 'base_consumption': 520, 'temp_sensitivity': 18},\n",
    "        'ZONE_005': {'type': 'Downtown', 'base_consumption': 890, 'temp_sensitivity': 22}\n",
    "    }\n",
    "    \n",
    "    data = []\n",
    "    np.random.seed(42)  # For reproducible results\n",
    "    \n",
    "    for date in dates:\n",
    "        # Seasonal temperature pattern\n",
    "        day_of_year = date.timetuple().tm_yday\n",
    "        base_temp = 15 + 15 * np.sin(2 * np.pi * (day_of_year - 80) / 365)\n",
    "        daily_temp = base_temp + np.random.normal(0, 3)\n",
    "        \n",
    "        # Humidity pattern (inverse relationship with temperature)\n",
    "        humidity = max(30, min(90, 70 - 0.5 * (daily_temp - 15) + np.random.normal(0, 8)))\n",
    "        \n",
    "        # Special events (weekends, holidays, festivals) - about 15% of days\n",
    "        is_weekend = date.weekday() >= 5\n",
    "        is_special = 1 if (is_weekend or np.random.random() < 0.05) else 0\n",
    "        \n",
    "        for zone_id, zone_info in zones.items():\n",
    "            # Base consumption varies by zone type\n",
    "            base_consumption = zone_info['base_consumption']\n",
    "            temp_sensitivity = zone_info['temp_sensitivity']\n",
    "            \n",
    "            # Temperature effect (higher consumption in extreme temperatures)\n",
    "            temp_effect = temp_sensitivity * abs(daily_temp - 22) / 10\n",
    "            \n",
    "            # Weekend/holiday effect (different for each zone type)\n",
    "            event_multiplier = 1.2 if zone_info['type'] in ['Commercial', 'Downtown'] and is_special else 0.8 if is_special else 1.0\n",
    "            \n",
    "            # Seasonal effect\n",
    "            seasonal_factor = 1.1 if day_of_year < 90 or day_of_year > 270 else 0.95  # Winter vs Summer\n",
    "            \n",
    "            # Random noise\n",
    "            noise = np.random.normal(0, base_consumption * 0.05)\n",
    "            \n",
    "            # Calculate final consumption\n",
    "            consumption = base_consumption * event_multiplier * seasonal_factor + temp_effect + noise\n",
    "            consumption = max(100, consumption)  # Minimum consumption threshold\n",
    "            \n",
    "            data.append({\n",
    "                'Date': date,\n",
    "                'ZoneID': zone_id,\n",
    "                'AvgTemperature': round(daily_temp, 1),\n",
    "                'Humidity': round(humidity, 1),\n",
    "                'SpecialEvent': is_special,\n",
    "                'EnergyConsumption': round(consumption, 2)\n",
    "            })\n",
    "    \n",
    "    df = pd.DataFrame(data)\n",
    "    print(f\"✅ Dataset generated: {len(df)} records for {len(zones)} zones over {len(dates)} days\")\n",
    "    return df\n",
    "\n",
    "# Generate the dataset\n",
    "df = generate_synthetic_dataset()\n",
    "\n",
    "# Display basic information\n",
    "print(f\"\\n📋 Dataset Overview:\")\n",
    "print(f\"Shape: {df.shape}\")\n",
    "print(f\"Date range: {df['Date'].min()} to {df['Date'].max()}\")\n",
    "print(f\"Zones: {df['ZoneID'].unique()}\")\n",
    "print(\"\\nFirst 10 rows:\")\n",
    "print(df.head(10))\n",
    "\n",
    "# =============================================================================\n",
    "# 2. DATA CLEANING AND PREPROCESSING\n",
    "# =============================================================================\n",
    "\n",
    "def clean_and_preprocess_data(df):\n",
    "    \"\"\"\n",
    "    Clean and preprocess the energy consumption dataset.\n",
    "    \n",
    "    Args:\n",
    "        df (pd.DataFrame): Raw dataset\n",
    "        \n",
    "    Returns:\n",
    "        pd.DataFrame: Cleaned and preprocessed dataset\n",
    "    \"\"\"\n",
    "    print(\"\\n🧹 Cleaning and Preprocessing Data...\")\n",
    "    \n",
    "    # Check for missing values\n",
    "    missing_values = df.isnull().sum()\n",
    "    if missing_values.any():\n",
    "        print(f\"Missing values found:\\n{missing_values}\")\n",
    "        # Fill missing values if any\n",
    "        df = df.fillna(method='forward').fillna(method='backward')\n",
    "    else:\n",
    "        print(\"✅ No missing values found\")\n",
    "    \n",
    "    # Add derived features\n",
    "    df['Date'] = pd.to_datetime(df['Date'])\n",
    "    df['Month'] = df['Date'].dt.month\n",
    "    df['DayOfWeek'] = df['Date'].dt.dayofweek\n",
    "    df['DayOfYear'] = df['Date'].dt.dayofyear\n",
    "    df['Season'] = df['Month'].map({12: 'Winter', 1: 'Winter', 2: 'Winter',\n",
    "                                    3: 'Spring', 4: 'Spring', 5: 'Spring',\n",
    "                                    6: 'Summer', 7: 'Summer', 8: 'Summer',\n",
    "                                    9: 'Fall', 10: 'Fall', 11: 'Fall'})\n",
    "    \n",
    "    # Temperature categories\n",
    "    df['TempCategory'] = pd.cut(df['AvgTemperature'], \n",
    "                               bins=[-np.inf, 10, 20, 30, np.inf],\n",
    "                               labels=['Cold', 'Cool', 'Warm', 'Hot'])\n",
    "    \n",
    "    print(f\"✅ Data preprocessing complete. New shape: {df.shape}\")\n",
    "    return df\n",
    "\n",
    "# Clean and preprocess the data\n",
    "df_clean = clean_and_preprocess_data(df)\n",
    "\n",
    "# =============================================================================\n",
    "# 3. DATA ANALYSIS\n",
    "# =============================================================================\n",
    "\n",
    "def perform_data_analysis(df):\n",
    "    \"\"\"\n",
    "    Perform comprehensive analysis of energy consumption patterns.\n",
    "    \n",
    "    Args:\n",
    "        df (pd.DataFrame): Cleaned dataset\n",
    "    \"\"\"\n",
    "    print(\"\\n🔍 Performing Data Analysis...\")\n",
    "    \n",
    "    # Monthly consumption analysis\n",
    "    monthly_consumption = df.groupby(['Month', 'ZoneID'])['EnergyConsumption'].mean().unstack()\n",
    "    print(\"\\n📊 Average Monthly Consumption by Zone (kWh):\")\n",
    "    print(monthly_consumption.round(2))\n",
    "    \n",
    "    # Zone-wise statistics\n",
    "    zone_stats = df.groupby('ZoneID').agg({\n",
    "        'EnergyConsumption': ['mean', 'std', 'min', 'max'],\n",
    "        'AvgTemperature': 'mean',\n",
    "        'Humidity': 'mean',\n",
    "        'SpecialEvent': 'sum'\n",
    "    }).round(2)\n",
    "    zone_stats.columns = ['_'.join(col).strip() for col in zone_stats.columns.values]\n",
    "    print(f\"\\n📊 Zone-wise Statistics:\")\n",
    "    print(zone_stats)\n",
    "    \n",
    "    # Correlation analysis\n",
    "    correlation_features = ['AvgTemperature', 'Humidity', 'SpecialEvent', 'EnergyConsumption', 'Month', 'DayOfWeek']\n",
    "    correlation_matrix = df[correlation_features].corr()\n",
    "    print(f\"\\n📊 Feature Correlations:\")\n",
    "    print(correlation_matrix.round(3))\n",
    "    \n",
    "    # Special events analysis\n",
    "    event_analysis = df.groupby(['SpecialEvent', 'ZoneID'])['EnergyConsumption'].mean().unstack()\n",
    "    print(f\"\\n📊 Average Consumption: Event vs Non-Event Days:\")\n",
    "    print(event_analysis.round(2))\n",
    "    \n",
    "    return monthly_consumption, zone_stats, correlation_matrix, event_analysis\n",
    "\n",
    "# Perform analysis\n",
    "monthly_consumption, zone_stats, correlation_matrix, event_analysis = perform_data_analysis(df_clean)\n",
    "\n",
    "# =============================================================================\n",
    "# 4. VISUALIZATION\n",
    "# =============================================================================\n",
    "\n",
    "def create_visualizations(df, monthly_consumption, correlation_matrix, event_analysis):\n",
    "    \"\"\"\n",
    "    Create comprehensive visualizations of energy consumption patterns.\n",
    "    \n",
    "    Args:\n",
    "        df (pd.DataFrame): Cleaned dataset\n",
    "        monthly_consumption (pd.DataFrame): Monthly consumption data\n",
    "        correlation_matrix (pd.DataFrame): Correlation matrix\n",
    "        event_analysis (pd.DataFrame): Event analysis data\n",
    "    \"\"\"\n",
    "    print(\"\\n📈 Creating Visualizations...\")\n",
    "    \n",
    "    # Set up the plotting area\n",
    "    fig = plt.figure(figsize=(20, 15))\n",
    "    \n",
    "    # 1. Monthly Energy Usage Trends (Line Chart)\n",
    "    plt.subplot(2, 3, 1)\n",
    "    for zone in monthly_consumption.columns:\n",
    "        plt.plot(monthly_consumption.index, monthly_consumption[zone], \n",
    "                marker='o', linewidth=2, label=zone)\n",
    "    plt.title('Monthly Energy Usage Trends by Zone', fontsize=14, fontweight='bold')\n",
    "    plt.xlabel('Month')\n",
    "    plt.ylabel('Energy Consumption (kWh)')\n",
    "    plt.legend()\n",
    "    plt.grid(True, alpha=0.3)\n",
    "    \n",
    "    # 2. Correlation Heatmap\n",
    "    plt.subplot(2, 3, 2)\n",
    "    sns.heatmap(correlation_matrix, annot=True, cmap='coolwarm', center=0, \n",
    "                square=True, cbar_kws={'shrink': 0.8})\n",
    "    plt.title('Feature Correlation Heatmap', fontsize=14, fontweight='bold')\n",
    "    plt.xticks(rotation=45, ha='right')\n",
    "    \n",
    "    # 3. Event vs Non-Event Days Comparison (Bar Chart)\n",
    "    plt.subplot(2, 3, 3)\n",
    "    event_comparison = event_analysis.mean(axis=1)\n",
    "    bars = plt.bar(['No Event', 'Special Event'], event_comparison.values, \n",
    "                   color=['lightblue', 'orange'], alpha=0.8)\n",
    "    plt.title('Average Consumption: Event vs Non-Event Days', fontsize=14, fontweight='bold')\n",
    "    plt.ylabel('Energy Consumption (kWh)')\n",
    "    # Add value labels on bars\n",
    "    for bar, value in zip(bars, event_comparison.values):\n",
    "        plt.text(bar.get_x() + bar.get_width()/2, bar.get_height() + 10,\n",
    "                f'{value:.1f}', ha='center', fontweight='bold')\n",
    "    \n",
    "    # 4. Temperature vs Energy Consumption Scatter\n",
    "    plt.subplot(2, 3, 4)\n",
    "    for zone in df['ZoneID'].unique():\n",
    "        zone_data = df[df['ZoneID'] == zone]\n",
    "        plt.scatter(zone_data['AvgTemperature'], zone_data['EnergyConsumption'], \n",
    "                   alpha=0.6, label=zone, s=30)\n",
    "    plt.title('Temperature vs Energy Consumption', fontsize=14, fontweight='bold')\n",
    "    plt.xlabel('Average Temperature (°C)')\n",
    "    plt.ylabel('Energy Consumption (kWh)')\n",
    "    plt.legend()\n",
    "    plt.grid(True, alpha=0.3)\n",
    "    \n",
    "    # 5. Seasonal Consumption Box Plot\n",
    "    plt.subplot(2, 3, 5)\n",
    "    sns.boxplot(data=df, x='Season', y='EnergyConsumption', palette='Set2')\n",
    "    plt.title('Seasonal Energy Consumption Distribution', fontsize=14, fontweight='bold')\n",
    "    plt.ylabel('Energy Consumption (kWh)')\n",
    "    plt.xticks(rotation=45)\n",
    "    \n",
    "    # 6. Weekly Pattern\n",
    "    plt.subplot(2, 3, 6)\n",
    "    weekly_pattern = df.groupby('DayOfWeek')['EnergyConsumption'].mean()\n",
    "    days = ['Mon', 'Tue', 'Wed', 'Thu', 'Fri', 'Sat', 'Sun']\n",
    "    plt.plot(days, weekly_pattern.values, marker='o', linewidth=3, markersize=8, color='green')\n",
    "    plt.title('Weekly Energy Consumption Pattern', fontsize=14, fontweight='bold')\n",
    "    plt.xlabel('Day of Week')\n",
    "    plt.ylabel('Average Energy Consumption (kWh)')\n",
    "    plt.grid(True, alpha=0.3)\n",
    "    \n",
    "    plt.tight_layout()\n",
    "    plt.show()\n",
    "    \n",
    "    print(\"✅ Static visualizations created successfully!\")\n",
    "    \n",
    "    # Interactive Plotly visualizations\n",
    "    create_interactive_visualizations(df, monthly_consumption)\n",
    "\n",
    "def create_interactive_visualizations(df, monthly_consumption):\n",
    "    \"\"\"Create interactive Plotly visualizations.\"\"\"\n",
    "    print(\"\\n🌟 Creating Interactive Visualizations...\")\n",
    "    \n",
    "    # Interactive monthly trends\n",
    "    fig1 = go.Figure()\n",
    "    for zone in monthly_consumption.columns:\n",
    "        fig1.add_trace(go.Scatter(\n",
    "            x=monthly_consumption.index,\n",
    "            y=monthly_consumption[zone],\n",
    "            mode='lines+markers',\n",
    "            name=zone,\n",
    "            line=dict(width=3),\n",
    "            marker=dict(size=8)\n",
    "        ))\n",
    "    \n",
    "    fig1.update_layout(\n",
    "        title='Interactive Monthly Energy Usage Trends',\n",
    "        xaxis_title='Month',\n",
    "        yaxis_title='Energy Consumption (kWh)',\n",
    "        hovermode='x unified',\n",
    "        height=500\n",
    "    )\n",
    "    fig1.show()\n",
    "    \n",
    "    # Interactive zone comparison\n",
    "    fig2 = px.box(df, x='ZoneID', y='EnergyConsumption', \n",
    "                  title='Energy Consumption Distribution by Zone',\n",
    "                  color='ZoneID')\n",
    "    fig2.update_layout(height=500, showlegend=False)\n",
    "    fig2.show()\n",
    "    \n",
    "    print(\"✅ Interactive visualizations created successfully!\")\n",
    "\n",
    "# Create visualizations\n",
    "create_visualizations(df_clean, monthly_consumption, correlation_matrix, event_analysis)\n",
    "\n",
    "# =============================================================================\n",
    "# 5. MACHINE LEARNING PREDICTION MODEL\n",
    "# =============================================================================\n",
    "\n",
    "def prepare_features(df):\n",
    "    \"\"\"\n",
    "    Prepare features for machine learning model.\n",
    "    \n",
    "    Args:\n",
    "        df (pd.DataFrame): Cleaned dataset\n",
    "        \n",
    "    Returns:\n",
    "        tuple: Features (X) and target (y) arrays\n",
    "    \"\"\"\n",
    "    # Select features for the model\n",
    "    feature_columns = ['AvgTemperature', 'Humidity', 'SpecialEvent', 'Month', 'DayOfWeek']\n",
    "    \n",
    "    # Create dummy variables for categorical features\n",
    "    df_encoded = pd.get_dummies(df, columns=['ZoneID'], prefix='Zone')\n",
    "    \n",
    "    # Prepare feature matrix\n",
    "    zone_columns = [col for col in df_encoded.columns if col.startswith('Zone_')]\n",
    "    X = df_encoded[feature_columns + zone_columns]\n",
    "    y = df_encoded['EnergyConsumption']\n",
    "    \n",
    "    return X, y, feature_columns + zone_columns\n",
    "\n",
    "def build_and_evaluate_models(X, y, feature_names):\n",
    "    \"\"\"\n",
    "    Build and evaluate Linear Regression and Random Forest models.\n",
    "    \n",
    "    Args:\n",
    "        X (pd.DataFrame): Feature matrix\n",
    "        y (pd.Series): Target variable\n",
    "        feature_names (list): List of feature names\n",
    "        \n",
    "    Returns:\n",
    "        tuple: Trained models and evaluation results\n",
    "    \"\"\"\n",
    "    print(\"\\n🤖 Building and Evaluating ML Models...\")\n",
    "    \n",
    "    # Split the data\n",
    "    X_train, X_test, y_train, y_test = train_test_split(X, y, test_size=0.2, random_state=42)\n",
    "    \n",
    "    # Scale features\n",
    "    scaler = StandardScaler()\n",
    "    X_train_scaled = scaler.fit_transform(X_train)\n",
    "    X_test_scaled = scaler.transform(X_test)\n",
    "    \n",
    "    # Initialize models\n",
    "    models = {\n",
    "        'Linear Regression': LinearRegression(),\n",
    "        'Random Forest': RandomForestRegressor(n_estimators=100, random_state=42, n_jobs=-1)\n",
    "    }\n",
    "    \n",
    "    results = {}\n",
    "    trained_models = {}\n",
    "    \n",
    "    for name, model in models.items():\n",
    "        print(f\"\\n🔧 Training {name}...\")\n",
    "        \n",
    "        # Train model\n",
    "        if name == 'Linear Regression':\n",
    "            model.fit(X_train_scaled, y_train)\n",
    "            y_pred = model.predict(X_test_scaled)\n",
    "        else:\n",
    "            model.fit(X_train, y_train)\n",
    "            y_pred = model.predict(X_test)\n",
    "        \n",
    "        # Calculate metrics\n",
    "        mae = mean_absolute_error(y_test, y_pred)\n",
    "        r2 = r2_score(y_test, y_pred)\n",
    "        \n",
    "        results[name] = {'MAE': mae, 'R2': r2, 'predictions': y_pred}\n",
    "        trained_models[name] = {'model': model, 'scaler': scaler if name == 'Linear Regression' else None}\n",
    "        \n",
    "        print(f\"📊 {name} Results:\")\n",
    "        print(f\"   Mean Absolute Error: {mae:.2f} kWh\")\n",
    "        print(f\"   R² Score: {r2:.4f}\")\n",
    "    \n",
    "    # Feature importance for Random Forest\n",
    "    if 'Random Forest' in trained_models:\n",
    "        rf_model = trained_models['Random Forest']['model']\n",
    "        feature_importance = pd.DataFrame({\n",
    "            'feature': feature_names,\n",
    "            'importance': rf_model.feature_importances_\n",
    "        }).sort_values('importance', ascending=False)\n",
    "        \n",
    "        print(f\"\\n🎯 Random Forest Feature Importance:\")\n",
    "        for _, row in feature_importance.head(10).iterrows():\n",
    "            print(f\"   {row['feature']}: {row['importance']:.4f}\")\n",
    "    \n",
    "    # Create prediction comparison plot\n",
    "    plt.figure(figsize=(15, 5))\n",
    "    \n",
    "    for i, (name, result) in enumerate(results.items(), 1):\n",
    "        plt.subplot(1, 2, i)\n",
    "        plt.scatter(y_test, result['predictions'], alpha=0.6)\n",
    "        plt.plot([y_test.min(), y_test.max()], [y_test.min(), y_test.max()], 'r--', lw=2)\n",
    "        plt.xlabel('Actual Consumption (kWh)')\n",
    "        plt.ylabel('Predicted Consumption (kWh)')\n",
    "        plt.title(f'{name}\\nMAE: {result[\"MAE\"]:.2f}, R²: {result[\"R2\"]:.4f}')\n",
    "        plt.grid(True, alpha=0.3)\n",
    "    \n",
    "    plt.tight_layout()\n",
    "    plt.show()\n",
    "    \n",
    "    return trained_models, results, X_test, y_test\n",
    "\n",
    "# Prepare features and build models\n",
    "X, y, feature_names = prepare_features(df_clean)\n",
    "trained_models, model_results, X_test, y_test = build_and_evaluate_models(X, y, feature_names)\n",
    "\n",
    "# =============================================================================\n",
    "# 6. INTERACTIVE PREDICTION INTERFACE\n",
    "# =============================================================================\n",
    "\n",
    "class EnergyPredictionSystem:\n",
    "    \"\"\"Interactive system for predicting energy consumption.\"\"\"\n",
    "    \n",
    "    def __init__(self, models, df, feature_names):\n",
    "        self.models = models\n",
    "        self.df = df\n",
    "        self.feature_names = feature_names\n",
    "        self.zones = sorted(df['ZoneID'].unique())\n",
    "    \n",
    "    def validate_inputs(self, zone_id, temperature, humidity, special_event):\n",
    "        \"\"\"Validate user inputs.\"\"\"\n",
    "        errors = []\n",
    "        \n",
    "        if zone_id not in self.zones:\n",
    "            errors.append(f\"Invalid Zone ID. Must be one of: {', '.join(self.zones)}\")\n",
    "        \n",
    "        if not -50 <= temperature <= 60:\n",
    "            errors.append(\"Temperature must be between -50°C and 60°C\")\n",
    "        \n",
    "        if not 0 <= humidity <= 100:\n",
    "            errors.append(\"Humidity must be between 0% and 100%\")\n",
    "        \n",
    "        if special_event not in [0, 1]:\n",
    "            errors.append(\"Special Event must be 0 (No) or 1 (Yes)\")\n",
    "        \n",
    "        return errors\n",
    "    \n",
    "    def prepare_prediction_input(self, zone_id, temperature, humidity, special_event, month=None, day_of_week=None):\n",
    "        \"\"\"Prepare input for prediction.\"\"\"\n",
    "        if month is None:\n",
    "            month = 6  # Default to June\n",
    "        if day_of_week is None:\n",
    "            day_of_week = 1  # Default to Tuesday\n",
    "        \n",
    "        # Create input array\n",
    "        input_data = [temperature, humidity, special_event, month, day_of_week]\n",
    "        \n",
    "        # Add zone dummy variables\n",
    "        for zone in self.zones:\n",
    "            input_data.append(1 if zone == zone_id else 0)\n",
    "        \n",
    "        return np.array(input_data).reshape(1, -1)\n",
    "    \n",
    "    def predict_consumption(self, zone_id, temperature, humidity, special_event, month=None, day_of_week=None):\n",
    "        \"\"\"Predict energy consumption for given inputs.\"\"\"\n",
    "        # Validate inputs\n",
    "        errors = self.validate_inputs(zone_id, temperature, humidity, special_event)\n",
    "        if errors:\n",
    "            return {\"error\": errors}\n",
    "        \n",
    "        # Prepare input\n",
    "        input_data = self.prepare_prediction_input(zone_id, temperature, humidity, special_event, month, day_of_week)\n",
    "        \n",
    "        predictions = {}\n",
    "        for model_name, model_info in self.models.items():\n",
    "            model = model_info['model']\n",
    "            scaler = model_info['scaler']\n",
    "            \n",
    "            if scaler is not None:  # Linear Regression\n",
    "                input_scaled = scaler.transform(input_data)\n",
    "                pred = model.predict(input_scaled)[0]\n",
    "            else:  # Random Forest\n",
    "                pred = model.predict(input_data)[0]\n",
    "            \n",
    "            predictions[model_name] = max(0, pred)  # Ensure non-negative prediction\n",
    "        \n",
    "        return {\n",
    "            \"zone_id\": zone_id,\n",
    "            \"temperature\": temperature,\n",
    "            \"humidity\": humidity,\n",
    "            \"special_event\": \"Yes\" if special_event else \"No\",\n",
    "            \"predictions\": predictions,\n",
    "            \"average_prediction\": np.mean(list(predictions.values()))\n",
    "        }\n",
    "    \n",
    "    def run_interactive_session(self):\n",
    "        \"\"\"Run interactive prediction session.\"\"\"\n",
    "        print(\"\\n🎯 Interactive Energy Consumption Prediction System\")\n",
    "        print(\"=\" * 60)\n",
    "        print(f\"Available Zones: {', '.join(self.zones)}\")\n",
    "        print(\"Enter 'quit' to exit the system\")\n",
    "        \n",
    "        while True:\n",
    "            try:\n",
    "                print(\"\\n\" + \"-\" * 40)\n",
    "                # Get user inputs\n",
    "                zone_input = input(\"Enter Zone ID: \").strip().upper()\n",
    "                if zone_input.lower() == 'quit':\n",
    "                    break\n",
    "                \n",
    "                temp_input = input(\"Enter tomorrow's temperature (°C): \").strip()\n",
    "                if temp_input.lower() == 'quit':\n",
    "                    break\n",
    "                \n",
    "                humidity_input = input(\"Enter tomorrow's humidity (%): \").strip()\n",
    "                if humidity_input.lower() == 'quit':\n",
    "                    break\n",
    "                \n",
    "                event_input = input(\"Special event tomorrow? (0=No, 1=Yes): \").strip()\n",
    "                if event_input.lower() == 'quit':\n",
    "                    break\n",
    "                \n",
    "                # Convert inputs\n",
    "                temperature = float(temp_input)\n",
    "                humidity = float(humidity_input)\n",
    "                special_event = int(event_input)\n",
    "                \n",
    "                # Make prediction\n",
    "                result = self.predict_consumption(zone_input, temperature, humidity, special_event)\n",
    "                \n",
    "                if \"error\" in result:\n",
    "                    print(f\"\\n❌ Input Errors:\")\n",
    "                    for error in result[\"error\"]:\n",
    "                        print(f\"   • {error}\")\n",
    "                else:\n",
    "                    print(f\"\\n🎯 Prediction Results for {result['zone_id']}:\")\n",
    "                    print(f\"   Temperature: {result['temperature']}°C\")\n",
    "                    print(f\"   Humidity: {result['humidity']}%\")\n",
    "                    print(f\"   Special Event: {result['special_event']}\")\n",
    "                    print(f\"\\n📊 Model Predictions:\")\n",
    "                    for model_name, prediction in result['predictions'].items():\n",
    "                        print(f\"   {model_name}: {prediction:.2f} kWh\")\n",
    "                    print(f\"\\n⭐ Average Prediction: {result['average_prediction']:.2f} kWh\")\n",
    "            \n",
    "            except ValueError:\n",
    "                print(\"❌ Invalid input. Please enter numeric values where required.\")\n",
    "            except KeyboardInterrupt:\n",
    "                break\n",
    "            except Exception as e:\n",
    "                print(f\"❌ An error occurred: {str(e)}\")\n",
    "        \n",
    "        print(\"\\n👋 Thank you for using the Energy Prediction System!\")\n",
    "\n",
    "# Initialize the prediction system\n",
    "prediction_system = EnergyPredictionSystem(trained_models, df_clean, feature_names)\n",
    "\n",
    "# =============================================================================\n",
    "# 7. SYSTEM SUMMARY AND INSIGHTS\n",
    "# =============================================================================\n",
    "\n",
    "def generate_system_summary(df, model_results):\n",
    "    \"\"\"Generate a comprehensive summary of the analysis and insights.\"\"\"\n",
    "    print(\"\\n📋 SYSTEM SUMMARY & INSIGHTS\")\n",
    "    print(\"=\" * 60)\n",
    "    \n",
    "    print(f\"\\n📊 Dataset Statistics:\")\n",
    "    print(f\"   • Total Records: {len(df):,}\")\n",
    "    print(f\"   • Date Range: {df['Date'].min().strftime('%Y-%m-%d')} to {df['Date'].max().strftime('%Y-%m-%d')}\")\n",
    "    print(f\"   • Number of Zones: {df['ZoneID'].nunique()}\")\n",
    "    print(f\"   • Average Daily Consumption: {df['EnergyConsumption'].mean():.2f} kWh\")\n",
    "    print(f\"   • Peak Consumption: {df['EnergyConsumption'].max():.2f} kWh\")\n",
    "    print(f\"   • Special Event Days: {df['SpecialEvent'].sum()} ({df['SpecialEvent'].mean()*100:.1f}%)\")\n",
    "    \n",
    "    print(f\"\\n🎯 Key Insights:\")\n",
    "    \n",
    "    # Temperature insights\n",
    "    temp_corr = df[['AvgTemperature', 'EnergyConsumption']].corr().iloc[0, 1]\n",
    "    print(f\"   • Temperature-Consumption Correlation: {temp_corr:.3f}\")\n",
    "    \n",
    "    # Zone performance\n",
    "    zone_avg = df.groupby('ZoneID')['EnergyConsumption'].mean()\n",
    "    highest_zone = zone_avg.idxmax()\n",
    "    lowest_zone = zone_avg.idxmin()\n",
    "    print(f\"   • Highest Consuming Zone: {highest_zone} ({zone_avg[highest_zone]:.2f} kWh avg)\")\n",
    "    print(f\"   • Lowest Consuming Zone: {lowest_zone} ({zone_avg[lowest_zone]:.2f} kWh avg)\")\n",
    "    \n",
    "    # Seasonal patterns\n",
    "    seasonal_avg = df.groupby('Season')['EnergyConsumption'].mean()\n",
    "    peak_season = seasonal_avg.idxmax()\n",
    "    print(f\"   • Peak Consumption Season: {peak_season} ({seasonal_avg[peak_season]:.2f} kWh avg)\")\n",
    "    \n",
    "    # Event impact\n",
    "    event_impact = df.groupby('SpecialEvent')['EnergyConsumption'].mean()\n",
    "    if len(event_impact) > 1:\n",
    "        impact_pct = ((event_impact[1] - event_impact[0]) / event_impact[0]) * 100\n",
    "        print(f\"   • Special Event Impact: {impact_pct:+.1f}% consumption change\")\n",
    "    \n",
    "    print(f\"\\n🤖 Model Performance:\")\n",
    "    for model_name, results in model_results.items():\n",
    "        print(f\"   • {model_name}:\")\n",
    "        print(f\"     - Mean Absolute Error: {results['MAE']:.2f} kWh\")\n",
    "        print(f\"     - R² Score: {results['R2']:.4f} ({results['R2']*100:.1f}% variance explained)\")\n",
    "    \n",
    "    best_model = min(model_results.items(), key=lambda x: x[1]['MAE'])\n",
    "    print(f\"   • Best Performing Model: {best_model[0]} (MAE: {best_model[1]['MAE']:.2f} kWh)\")\n",
    "    \n",
    "    print(f\"\\n💡 Recommendations:\")\n",
    "    print(f\"   • Monitor {highest_zone} closely as it shows highest consumption\")\n",
    "    print(f\"   • Plan for increased demand during {peak_season} season\")\n",
    "    print(f\"   • Consider load balancing during special events\")\n",
    "    print(f\"   • Use {best_model[0]} model for most accurate predictions\")\n",
    "\n",
    "generate_system_summary(df_clean, model_results)\n",
    "\n",
    "# =============================================================================\n",
    "# 8. DEMO PREDICTIONS\n",
    "# =============================================================================\n",
    "\n",
    "def run_demo_predictions():\n",
    "    \"\"\"Run demo predictions to showcase the system.\"\"\"\n",
    "    print(f\"\\n🎬 Demo Predictions\")\n",
    "    print(\"=\" * 30)\n",
    "    \n",
    "    demo_scenarios = [\n",
    "        {\"zone\": \"ZONE_001\", \"temp\": 25, \"humidity\": 65, \"event\": 0, \"desc\": \"Normal summer day\"},\n",
    "        {\"zone\": \"ZONE_002\", \"temp\": 5, \"humidity\": 80, \"event\": 1, \"desc\": \"Cold winter day with event\"},\n",
    "        {\"zone\": \"ZONE_003\", \"temp\": 30, \"humidity\": 45, \"event\": 0, \"desc\": \"Hot day, no event\"},\n",
    "        {\"zone\": \"ZONE_004\", \"temp\": 15, \"humidity\": 70, \"event\": 1, \"desc\": \"Mild day with special event\"},\n",
    "        {\"zone\": \"ZONE_005\", \"temp\": 20, \"humidity\": 55, \"event\": 0, \"desc\": \"Pleasant spring day\"}\n",
    "    ]\n",
    "    \n",
    "    for scenario in demo_scenarios:\n",
    "        result = prediction_system.predict_consumption(\n",
    "            scenario[\"zone\"], scenario[\"temp\"], scenario[\"humidity\"], scenario[\"event\"]\n",
    "        )\n",
    "        \n",
    "        print(f\"\\n🎯 Scenario: {scenario['desc']}\")\n",
    "        print(f\"   Zone: {scenario['zone']}, Temp: {scenario['temp']}°C, Humidity: {scenario['humidity']}%, Event: {'Yes' if scenario['event'] else 'No'}\")\n",
    "        print(f\"   Predicted Consumption: {result['average_prediction']:.2f} kWh\")\n",
    "\n",
    "run_demo_predictions()\n",
    "\n",
    "print(f\"\\n🚀 System Ready!\")\n",
    "print(f\"To use the interactive prediction interface, call:\")\n",
    "print(f\"prediction_system.run_interactive_session()\")"
   ]
  }
 ],
 "metadata": {
  "kernelspec": {
   "display_name": "Python 3",
   "language": "python",
   "name": "python3"
  },
  "language_info": {
   "codemirror_mode": {
    "name": "ipython",
    "version": 3
   },
   "file_extension": ".py",
   "mimetype": "text/x-python",
   "name": "python",
   "nbconvert_exporter": "python",
   "pygments_lexer": "ipython3",
   "version": "3.12.2"
  }
 },
 "nbformat": 4,
 "nbformat_minor": 5
}
